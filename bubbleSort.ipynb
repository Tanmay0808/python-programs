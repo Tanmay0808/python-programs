{
 "cells": [
  {
   "cell_type": "code",
   "execution_count": 89,
   "metadata": {},
   "outputs": [],
   "source": [
    "def bubble(myList, index, end):\n",
    "    '''\n",
    "    Objective: To assign the min element to the end of the list\n",
    "    Input parameters: \n",
    "        myList: A list\n",
    "        index: index of the list initially set to 0\n",
    "        end: max length of the list\n",
    "    Return Values: \n",
    "        myList: A list with min element at the end of the list \n",
    "    Approach: Using Recursion\n",
    "    '''\n",
    "    if index < end-1:\n",
    "        if myList[index] < myList[index+1]:\n",
    "               myList[index], myList[index+1] = myList[index+1], myList[index]\n",
    "        return bubble(myList, index+1, end)\n",
    "    else:\n",
    "        return myList"
   ]
  },
  {
   "cell_type": "code",
   "execution_count": 101,
   "metadata": {},
   "outputs": [],
   "source": [
    "def bubbleSort(myList, length):\n",
    "    '''\n",
    "    Objective: To sort a list in descending order using bubble function\n",
    "    Input Parameters:\n",
    "        myList: A List\n",
    "        length: max length of myList\n",
    "    Return Values: \n",
    "        myList: A list arranged in descending oreder\n",
    "    Approach: using recursion\n",
    "    '''\n",
    "    if length > 0:\n",
    "        bubble(myList, 0, length)\n",
    "        return bubbleSort(myList, length - 1)\n",
    "    "
   ]
  },
  {
   "cell_type": "code",
   "execution_count": 102,
   "metadata": {},
   "outputs": [],
   "source": [
    "a = [82,95,47,25,89,41,3,42]\n"
   ]
  },
  {
   "cell_type": "code",
   "execution_count": 103,
   "metadata": {},
   "outputs": [
    {
     "data": {
      "text/plain": [
       "[95, 89, 82, 47, 42, 41, 25, 3]"
      ]
     },
     "execution_count": 103,
     "metadata": {},
     "output_type": "execute_result"
    }
   ],
   "source": [
    "bubbleSort(a, 8)"
   ]
  },
  {
   "cell_type": "code",
   "execution_count": null,
   "metadata": {},
   "outputs": [],
   "source": []
  }
 ],
 "metadata": {
  "kernelspec": {
   "display_name": "Python 3",
   "language": "python",
   "name": "python3"
  },
  "language_info": {
   "codemirror_mode": {
    "name": "ipython",
    "version": 3
   },
   "file_extension": ".py",
   "mimetype": "text/x-python",
   "name": "python",
   "nbconvert_exporter": "python",
   "pygments_lexer": "ipython3",
   "version": "3.6.5"
  }
 },
 "nbformat": 4,
 "nbformat_minor": 2
}
