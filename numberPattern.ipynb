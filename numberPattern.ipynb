{
 "cells": [
  {
   "cell_type": "code",
   "execution_count": 1,
   "metadata": {
    "tags": []
   },
   "outputs": [
    {
     "output_type": "stream",
     "name": "stdout",
     "text": "1\n12\n123\n1234\n"
    }
   ],
   "source": [
    "# Take N (number of rows), print the following pattern (for N = 4).\n",
    "1\n",
    "12\n",
    "123\n",
    "1234\n",
    "# \n",
    "\n",
    "def pattern(num):\n",
    "    for i in range(1, num+1):\n",
    "        for j in range(1, i+1):\n",
    "            print(j, end=\"\")\n",
    "        print()\n",
    "        \n",
    "pattern(4)"
   ]
  },
  {
   "cell_type": "code",
   "execution_count": 6,
   "metadata": {
    "tags": []
   },
   "outputs": [
    {
     "output_type": "stream",
     "name": "stdout",
     "text": "1 \n     2 1 2 \n   3 2 1 2 3 \n 4 3 2 1 2 3 4 \n"
    }
   ],
   "source": [
    "#  Take N (number of rows), print the following pattern (for N = 4).\n",
    "#        1\n",
    "#      2 1 2 \n",
    "#    3 2 1 2 3 \n",
    "#  4 3 2 1 2 3 4 \n",
    "def pattern(num):\n",
    "    nSpaces = 2*num - 1\n",
    "    for i in range(1, num + 1):\n",
    "        print(' '*nSpaces, end = '')\n",
    "        for j in range(i, 0, -1):\n",
    "            print(j, end=\" \")\n",
    "        for k in range(2, i+1):\n",
    "            print(k, end=\" \")\n",
    "        nSpaces -= 2\n",
    "        print()\n",
    "        \n",
    "pattern(4)"
   ]
  },
  {
   "cell_type": "code",
   "execution_count": 10,
   "metadata": {
    "tags": []
   },
   "outputs": [
    {
     "output_type": "stream",
     "name": "stdout",
     "text": "1 \n2 3 \n4 5 6 \n7 8 9 10 \n11 12 13 14 15 \n"
    }
   ],
   "source": [
    " # Take N (number of rows), print the following pattern (for N = 5).\n",
    "# 1 \n",
    "# 2 3 \n",
    "# 4 5 6 \n",
    "# 7 8 9 10 \n",
    "# 11 12 13 14 15 \n",
    "\n",
    "\n",
    "def Pattern(n):  \n",
    "\tnum = 1\n",
    "\tfor i in range(0, n): \n",
    "\t\tfor j in range(0, i+1): \n",
    "\t\t\tprint(num, end=\" \")  \n",
    "\t\t\tnum = num + 1\n",
    "\t\tprint(\"\\r\") \n",
    "n=5\n",
    "Pattern(n) \n"
   ]
  },
  {
   "cell_type": "code",
   "execution_count": null,
   "metadata": {},
   "outputs": [],
   "source": []
  }
 ],
 "metadata": {
  "kernelspec": {
   "display_name": "Python 3.8.2 32-bit",
   "language": "python",
   "name": "python_defaultSpec_1601548536467"
  },
  "language_info": {
   "codemirror_mode": {
    "name": "ipython",
    "version": 3
   },
   "file_extension": ".py",
   "mimetype": "text/x-python",
   "name": "python",
   "nbconvert_exporter": "python",
   "pygments_lexer": "ipython3",
   "version": "3.8.2-final"
  }
 },
 "nbformat": 4,
 "nbformat_minor": 2
}
