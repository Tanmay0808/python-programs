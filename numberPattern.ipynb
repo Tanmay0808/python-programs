{
 "cells": [
  {
   "cell_type": "code",
   "execution_count": 27,
   "metadata": {},
   "outputs": [
    {
     "name": "stdout",
     "output_type": "stream",
     "text": [
      "1\n",
      "12\n",
      "123\n",
      "1234\n"
     ]
    }
   ],
   "source": [
    "def pattern(num):\n",
    "    for i in range(1, num+1):\n",
    "        for j in range(1, i+1):\n",
    "            print(j, end=\"\")\n",
    "        print()\n",
    "        \n",
    "pattern(4)"
   ]
  },
  {
   "cell_type": "code",
   "execution_count": 39,
   "metadata": {},
   "outputs": [
    {
     "name": "stdout",
     "output_type": "stream",
     "text": [
      "       1 \n",
      "     2 1 2 \n",
      "   3 2 1 2 3 \n",
      " 4 3 2 1 2 3 4 \n"
     ]
    }
   ],
   "source": [
    "def pattern(num):\n",
    "    nSpaces = 2*num - 1\n",
    "    for i in range(1, num + 1):\n",
    "        print(' '*nSpaces, end = '')\n",
    "        for j in range(i, 0, -1):\n",
    "            print(j, end=\" \")\n",
    "        for k in range(2, i+1):\n",
    "            print(k, end=\" \")\n",
    "        nSpaces -= 2\n",
    "        print()\n",
    "        \n",
    "pattern(4)"
   ]
  },
  {
   "cell_type": "code",
   "execution_count": null,
   "metadata": {},
   "outputs": [],
   "source": []
  }
 ],
 "metadata": {
  "kernelspec": {
   "display_name": "Python 3",
   "language": "python",
   "name": "python3"
  },
  "language_info": {
   "codemirror_mode": {
    "name": "ipython",
    "version": 3
   },
   "file_extension": ".py",
   "mimetype": "text/x-python",
   "name": "python",
   "nbconvert_exporter": "python",
   "pygments_lexer": "ipython3",
   "version": "3.7.3"
  }
 },
 "nbformat": 4,
 "nbformat_minor": 2
}
