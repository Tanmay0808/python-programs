{
 "cells": [
  {
   "cell_type": "code",
   "execution_count": 3,
   "metadata": {},
   "outputs": [],
   "source": [
    "def removeAllOcc(myList, value, index = 0, final = -2):\n",
    "    '''\n",
    "    Objective: To remove all occurrences of a value from a list\n",
    "    Input Paremeters: myList - A List with some elements\n",
    "                      value - An element that should be removed from the list\n",
    "    Return Values: myList - list without the value\n",
    "    '''\n",
    "    if final == -2:\n",
    "        final = len(myList) - 1\n",
    "    if index <= final:\n",
    "        if myList[index] == value:\n",
    "            myList.pop(index)\n",
    "            return removeAllOcc(myList, value, index, final - 1)\n",
    "        else:\n",
    "            return removeAllOcc(myList, value, index + 1, final)\n",
    "    else:\n",
    "        return myList"
   ]
  },
  {
   "cell_type": "code",
   "execution_count": 10,
   "metadata": {},
   "outputs": [
    {
     "data": {
      "text/plain": [
       "[10, 30, 40, 40, 60, 50, 80, 100]"
      ]
     },
     "execution_count": 10,
     "metadata": {},
     "output_type": "execute_result"
    }
   ],
   "source": [
    "a = [10,30,20,40,40,60,20,50,80,20,20,20,100]\n",
    "removeAllOcc(a, 20)"
   ]
  },
  {
   "cell_type": "code",
   "execution_count": null,
   "metadata": {},
   "outputs": [],
   "source": []
  }
 ],
 "metadata": {
  "kernelspec": {
   "display_name": "Python 3",
   "language": "python",
   "name": "python3"
  },
  "language_info": {
   "codemirror_mode": {
    "name": "ipython",
    "version": 3
   },
   "file_extension": ".py",
   "mimetype": "text/x-python",
   "name": "python",
   "nbconvert_exporter": "python",
   "pygments_lexer": "ipython3",
   "version": "3.7.3"
  }
 },
 "nbformat": 4,
 "nbformat_minor": 2
}
