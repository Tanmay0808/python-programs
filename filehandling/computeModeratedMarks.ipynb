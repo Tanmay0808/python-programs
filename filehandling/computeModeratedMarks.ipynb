{
 "cells": [
  {
   "cell_type": "code",
   "execution_count": 6,
   "metadata": {},
   "outputs": [
    {
     "name": "stdout",
     "output_type": "stream",
     "text": [
      "Enter name of the file containing marks: marks.txt\n",
      "Enter name for output file for moderated marks: updatedMarks.txt\n",
      "Enter moderation percentage: 2\n",
      "Marks Updated\n"
     ]
    }
   ],
   "source": [
    "import sys\n",
    "def computeModeratedMarks(file1, file2, addPercent):\n",
    "    '''\n",
    "    Objective: To compute moderated marks of students\n",
    "    Input Parameters: file1, file2 - string values(location of the files)\n",
    "                      addPercent - numeric value\n",
    "    Return Value: None\n",
    "    Side Effect: A new file - file2 of moderated marks is produced\n",
    "    '''\n",
    "    try:\n",
    "        fIn = open(file1, 'r')\n",
    "        fOut = open(file2, 'w')\n",
    "    except IOError:\n",
    "        print('Problem in opening the file')\n",
    "        sys.exit()\n",
    "        \n",
    "    line1 = fIn.readline()\n",
    "    while(line1 != ''):\n",
    "        sList = line1.split(',')\n",
    "        try:\n",
    "            rollNo = int(sList[0])\n",
    "            name = sList[1]\n",
    "            marks = int(sList[2])\n",
    "        except IndexError:\n",
    "            print('Undefined Index')\n",
    "            sys.exit()\n",
    "        except ValueError:\n",
    "            print('Unsuccessful conversion to int')\n",
    "            sys.exit()\n",
    "        maxMarks = 100\n",
    "        moderatedMarks = marks + ((addPercent*maxMarks) / 100)\n",
    "        if moderatedMarks > 100:\n",
    "            moderatedMarks = 100\n",
    "        fOut.write(str(rollNo) + ',' + name + ',' + str(moderatedMarks) + '\\n')\n",
    "        line1 = fIn.readline()\n",
    "        \n",
    "    fIn.close()\n",
    "    fOut.close()\n",
    "    print('Marks Updated')\n",
    "               \n",
    "def main():\n",
    "    import sys\n",
    "    sys.path.append(r'C:\\Users\\Shubham Sa\\python\\python-programs\\filehandling')\n",
    "    file1 = input('Enter name of the file containing marks: ')\n",
    "    file2 = input('Enter name for output file for moderated marks: ')\n",
    "    addPercent = int(input('Enter moderation percentage: '))\n",
    "    computeModeratedMarks(file1, file2, addPercent)\n",
    "    \n",
    "if __name__ == '__main__':\n",
    "    main()"
   ]
  },
  {
   "cell_type": "code",
   "execution_count": null,
   "metadata": {},
   "outputs": [],
   "source": []
  }
 ],
 "metadata": {
  "kernelspec": {
   "display_name": "Python 3",
   "language": "python",
   "name": "python3"
  },
  "language_info": {
   "codemirror_mode": {
    "name": "ipython",
    "version": 3
   },
   "file_extension": ".py",
   "mimetype": "text/x-python",
   "name": "python",
   "nbconvert_exporter": "python",
   "pygments_lexer": "ipython3",
   "version": "3.7.3"
  }
 },
 "nbformat": 4,
 "nbformat_minor": 2
}
