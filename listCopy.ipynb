{
 "cells": [
  {
   "cell_type": "code",
   "execution_count": 8,
   "metadata": {},
   "outputs": [],
   "source": [
    "def listCopy(myList, newList = [], index = 0, final = -1):\n",
    "    '''\n",
    "    Objective: To copy a list using recursive approach\n",
    "    Input Parameters: myList - A list with some elements\n",
    "                        newList - An empty list\n",
    "    Return Values: newList - A list with exactly same elements as myList\n",
    "    '''\n",
    "    #Approach: Using Recursion\n",
    "    if final == -1:\n",
    "        final = len(myList) - 1\n",
    "    if index <= final:\n",
    "        newList.append(myList[index])\n",
    "        return listCopy(myList, newList, index + 1, final)\n",
    "    else:\n",
    "        return newList"
   ]
  },
  {
   "cell_type": "code",
   "execution_count": 9,
   "metadata": {},
   "outputs": [
    {
     "data": {
      "text/plain": [
       "[10, 20, 40, [10, 30], 30, 70]"
      ]
     },
     "execution_count": 9,
     "metadata": {},
     "output_type": "execute_result"
    }
   ],
   "source": [
    "a = [10,20,40,[10,30],30,70]\n",
    "listCopy(a)"
   ]
  },
  {
   "cell_type": "code",
   "execution_count": null,
   "metadata": {},
   "outputs": [],
   "source": []
  }
 ],
 "metadata": {
  "kernelspec": {
   "display_name": "Python 3",
   "language": "python",
   "name": "python3"
  },
  "language_info": {
   "codemirror_mode": {
    "name": "ipython",
    "version": 3
   },
   "file_extension": ".py",
   "mimetype": "text/x-python",
   "name": "python",
   "nbconvert_exporter": "python",
   "pygments_lexer": "ipython3",
   "version": "3.7.3"
  }
 },
 "nbformat": 4,
 "nbformat_minor": 2
}
