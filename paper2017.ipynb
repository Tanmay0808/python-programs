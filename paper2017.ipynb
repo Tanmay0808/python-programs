{
 "cells": [
  {
   "cell_type": "code",
   "execution_count": 2,
   "metadata": {},
   "outputs": [
    {
     "name": "stdout",
     "output_type": "stream",
     "text": [
      "2087999439192\n",
      "global f\n",
      "id(f):  2087999439192\n",
      "id(f):  2087999441232\n",
      "inner f\n",
      "id(f):  2087999441232\n",
      "id(f):  2087999442592\n",
      "inner f\n",
      "Inside h: id(f):  2087999442592\n"
     ]
    }
   ],
   "source": [
    "#Q1: Output of the following code\n",
    "\n",
    "def f():\n",
    "    print('global f')\n",
    "    \n",
    "def g():\n",
    "    global f\n",
    "    print('id(f): ', id(f))\n",
    "    def f():\n",
    "        print('inner f')\n",
    "    print('id(f): ', id(f))\n",
    "    f()\n",
    "    \n",
    "def h():\n",
    "    print('Inside h: id(f): ', id(f))\n",
    "    \n",
    "def main():\n",
    "    print(id(f))\n",
    "    f()\n",
    "    g()\n",
    "    g()\n",
    "    h()\n",
    "    \n",
    "if __name__ == '__main__':\n",
    "    main()"
   ]
  },
  {
   "cell_type": "code",
   "execution_count": 3,
   "metadata": {},
   "outputs": [
    {
     "name": "stdout",
     "output_type": "stream",
     "text": [
      "9  +  99  +  999  =  1107\n"
     ]
    }
   ],
   "source": [
    "#Q2: Write a recursive function computeValue.......\n",
    "\n",
    "def computeValue(d, n):\n",
    "    '''\n",
    "    Objective: To compute the addition of d - digits addition n - times as (d + dd + ddd .... + d..d.. n-times)\n",
    "    Input Parameters:\n",
    "                    d - numeric value\n",
    "                    n - numeric value\n",
    "    Return Value: None\n",
    "    '''\n",
    "    #Creating a list as [d,dd,ddd,......,dddd...n-times]\n",
    "    myList = []\n",
    "    d_str = str(d)\n",
    "    for x in range(1, n+1):\n",
    "        d_str_temp = d_str*x\n",
    "        d_int = int(d_str_temp)\n",
    "        myList.append(d_int)\n",
    "        \n",
    "    #Calculating sum of the list\n",
    "    sumList = 0\n",
    "    for i in myList:\n",
    "        sumList = sumList + i\n",
    "        \n",
    "     #Printing output as given in the question   \n",
    "    for i in range(0, len(myList)-1):\n",
    "        print(myList[i] ,\" + \", end=\" \")\n",
    "        \n",
    "    print(myList[-1], \" = \", sumList)\n",
    "\n",
    "\n",
    "computeValue(9, 3)"
   ]
  },
  {
   "cell_type": "code",
   "execution_count": 29,
   "metadata": {},
   "outputs": [
    {
     "data": {
      "text/plain": [
       "['I like football .',\n",
       " 'I like programming .',\n",
       " 'I love football .',\n",
       " 'I love programming .',\n",
       " 'You like football .',\n",
       " 'You like programming .',\n",
       " 'You love football .',\n",
       " 'You love programming .']"
      ]
     },
     "execution_count": 29,
     "metadata": {},
     "output_type": "execute_result"
    }
   ],
   "source": [
    "#Q3: ...........Statement .......\n",
    "\n",
    "def statementCreator(subject, verb, Object):\n",
    "    '''\n",
    "    Objective: To create statements from the given lists\n",
    "    Input Parameters:\n",
    "                    subject - list of subjects for statement creation\n",
    "                    verb -  list of verbs\n",
    "                    Object - list of objects\n",
    "    Return Value: statements - a list of statements\n",
    "    '''\n",
    "    words = []\n",
    "    for x in subject:\n",
    "        for y in verb:\n",
    "            for z in Object:\n",
    "                words.append([x, y, z, '.'])\n",
    "    \n",
    "    statements = []\n",
    "    for x in words:\n",
    "        statements.append(\" \".join(x))\n",
    "        \n",
    "    return statements\n",
    "\n",
    "subject = ['I', 'You']\n",
    "verb = ['like', 'love']\n",
    "Object = ['football', 'programming']\n",
    "statementCreator(subject, verb, Object)"
   ]
  },
  {
   "cell_type": "code",
   "execution_count": 54,
   "metadata": {},
   "outputs": [
    {
     "data": {
      "text/plain": [
       "{'a': [100, 300], 'b': [200, 400], 'c': 300, 'd': 400}"
      ]
     },
     "execution_count": 54,
     "metadata": {},
     "output_type": "execute_result"
    }
   ],
   "source": [
    "#Q4:function for combining dictionaries\n",
    "def combineDict(d1, d2):\n",
    "    '''\n",
    "    Objective: To combine two dictionaries based on their common keys\n",
    "    Input Parameters: d1, d2 - dictionaries\n",
    "    Return Value: d3 - A combined dictionary\n",
    "    '''\n",
    "    d3 = {}\n",
    "    d3.update(d1)\n",
    "    d3.update(d2)\n",
    "    for key1, value1 in d1.items():\n",
    "        for key2, value2 in d2.items():\n",
    "            if key1 == key2:\n",
    "                d3.update({key1: [value1, value2]})\n",
    "             \n",
    "    return d3\n",
    "                \n",
    "d1 = {'a': 100, 'b': 200, 'c': 300}\n",
    "d2 = {'a': 300, 'b': 400, 'd': 400}\n",
    "combineDict(d1, d2)"
   ]
  },
  {
   "cell_type": "code",
   "execution_count": null,
   "metadata": {},
   "outputs": [],
   "source": [
    "def combineDict(d1, d2, d3 = {}):\n",
    "    if d3 == \"\":\n",
    "        d3.update(d1)\n",
    "        d3.update(d2)\n",
    "        return combineDict(d1, d2, d3)\n",
    "    \n",
    "    \n",
    "    \n",
    "    "
   ]
  },
  {
   "cell_type": "code",
   "execution_count": 63,
   "metadata": {},
   "outputs": [
    {
     "data": {
      "text/plain": [
       "['a', 'b', 'c']"
      ]
     },
     "execution_count": 63,
     "metadata": {},
     "output_type": "execute_result"
    }
   ],
   "source": [
    "d1 = {'a': 100, 'b': 200, 'c': 300}\n",
    "a = list(d1.keys())\n",
    "a"
   ]
  },
  {
   "cell_type": "code",
   "execution_count": 26,
   "metadata": {},
   "outputs": [
    {
     "data": {
      "text/plain": [
       "22"
      ]
     },
     "execution_count": 26,
     "metadata": {},
     "output_type": "execute_result"
    }
   ],
   "source": [
    "#Q5: recursive function for sum of nested list\n",
    "def sumNList(myList, i = 0, sumList = 0):\n",
    "    '''\n",
    "    Objective: To compute sum of the elements of nested list\n",
    "    Input Parameters:\n",
    "                    myList - a nested list\n",
    "                    i - numeric value (index)\n",
    "    Return Value: sumList - numeric value (sum of the list)\n",
    "    '''\n",
    "    if len(myList) == i:\n",
    "        return sumList\n",
    "    else:\n",
    "        if type(myList[i]) == list:\n",
    "            sumList += sumNList(myList[i])\n",
    "        else:\n",
    "            sumList += myList[i]\n",
    "        return sumNList(myList, i + 1, sumList)\n",
    "\n",
    "a = [1, 4, [5, 3], [2, [3, [4]]]]\n",
    "sumNList(a)"
   ]
  },
  {
   "cell_type": "code",
   "execution_count": 5,
   "metadata": {},
   "outputs": [],
   "source": [
    "#Q6: class person and student.................\n",
    "\n",
    "class Person:\n",
    "    ''' class Person describes a Person '''\n",
    "    def __init__(self, name, DOB):\n",
    "        '''\n",
    "        Objective: to initialize the object of class Person\n",
    "        Input Parameters:\n",
    "                        self (implicit parameter) - object of type person\n",
    "                        name - string\n",
    "                        DOB - string\n",
    "        Return Values: None\n",
    "        '''\n",
    "        self.name = name\n",
    "        self.DOB = DOB\n",
    "        \n",
    "import sys\n",
    "class Student(Person):\n",
    "    ''' describes a student '''\n",
    "    def __init__(self, rollNo, marks):\n",
    "        self.rollNo = rollNo\n",
    "        self.marks = marks\n",
    "    \n",
    "    def updateMarks():\n",
    "        try:\n",
    "            fIn = open('student.txt', 'r')\n",
    "            fOut = open('updatedStudent.txt', 'w')\n",
    "        except IOError:\n",
    "            print('Problem in opening the file')\n",
    "            sys.exit()\n",
    "            \n",
    "        line = fIn.readline()\n",
    "        while (line!=''):\n",
    "            sList = line.split(',')\n",
    "            try:\n",
    "                rollNo = int(sList[0])\n",
    "                name = sList[1]\n",
    "                marks = int(sList[2])\n",
    "            except IndexError:\n",
    "                print('Undefined Index')\n",
    "                sys.exit()\n",
    "            except ValueError:\n",
    "                print('Unsuccessful conversion to int')\n",
    "                sys.exit()\n",
    "            maxMarks = 100\n",
    "            updatedMarks = marks + 5\n",
    "            if updatedMarks > 100:\n",
    "                updatedMarks = 100\n",
    "            fOut.write(str(rollNo) + ',' + name + ',' + str(updatedMarks) + '\\n')\n",
    "            line = fIn.readline()\n",
    "\n",
    "Student.updateMarks()"
   ]
  },
  {
   "cell_type": "code",
   "execution_count": 31,
   "metadata": {},
   "outputs": [
    {
     "name": "stdout",
     "output_type": "stream",
     "text": [
      "True\n",
      "True\n",
      "False\n",
      "False\n"
     ]
    }
   ],
   "source": [
    "#Q7: Outputs...\n",
    "#Q7(i):\n",
    "class A:\n",
    "    pass\n",
    "\n",
    "class B:\n",
    "    pass\n",
    "\n",
    "print(isinstance(A(), A))\n",
    "print(type(A()) == A)\n",
    "print(isinstance(B(), A))\n",
    "print(type(B()) == A)"
   ]
  },
  {
   "cell_type": "code",
   "execution_count": 7,
   "metadata": {},
   "outputs": [
    {
     "name": "stdout",
     "output_type": "stream",
     "text": [
      "helloSpamSpamEgg\n",
      "helloSpamSpamEgg\n",
      "ShelloSpamSpamEggSampSampS\n"
     ]
    }
   ],
   "source": [
    "#Q7(ii):\n",
    "spam = 'ShelloSpamSpamEggSampSampS'\n",
    "print(spam.strip('ampS'))\n",
    "print(spam.strip('Spam'))\n",
    "print(spam.strip())"
   ]
  },
  {
   "cell_type": "code",
   "execution_count": 57,
   "metadata": {},
   "outputs": [
    {
     "name": "stdout",
     "output_type": "stream",
     "text": [
      "False\n",
      "True\n"
     ]
    }
   ],
   "source": [
    "#Q7(iii):\n",
    "a = [1, 2, 3]\n",
    "b = [2, 1, 3]\n",
    "print(id(a) == id(b)) #output = False\n",
    "c = {1:1, 2:4, 3:9}\n",
    "d = {1:1, 3:9, 2:4}\n",
    "print(c==d)"
   ]
  },
  {
   "cell_type": "code",
   "execution_count": 11,
   "metadata": {},
   "outputs": [
    {
     "name": "stdout",
     "output_type": "stream",
     "text": [
      "[[1, 2, 3]]\n",
      "[1, 2, 3]\n"
     ]
    }
   ],
   "source": [
    "#Q7(iv):\n",
    "def f(a = []):\n",
    "    a.append([1,2,3])\n",
    "    return a\n",
    "\n",
    "print(f())\n",
    "\n",
    "def f(a = []):\n",
    "    a.extend([1,2,3])\n",
    "    return a\n",
    "\n",
    "print(f())"
   ]
  },
  {
   "cell_type": "code",
   "execution_count": 68,
   "metadata": {},
   "outputs": [
    {
     "name": "stdout",
     "output_type": "stream",
     "text": [
      "x =  def\n"
     ]
    }
   ],
   "source": [
    "#Q7(v):\n",
    "x = 'abc'\n",
    "def f():\n",
    "    x = 'def'\n",
    "    print('x = ', x)\n",
    "\n",
    "f()"
   ]
  },
  {
   "cell_type": "code",
   "execution_count": 15,
   "metadata": {},
   "outputs": [
    {
     "ename": "UnboundLocalError",
     "evalue": "local variable 'x' referenced before assignment",
     "output_type": "error",
     "traceback": [
      "\u001b[1;31m---------------------------------------------------------------------------\u001b[0m",
      "\u001b[1;31mUnboundLocalError\u001b[0m                         Traceback (most recent call last)",
      "\u001b[1;32m<ipython-input-15-c69495806db4>\u001b[0m in \u001b[0;36m<module>\u001b[1;34m\u001b[0m\n\u001b[0;32m      5\u001b[0m     \u001b[0mprint\u001b[0m\u001b[1;33m(\u001b[0m\u001b[1;34m\"x = \"\u001b[0m\u001b[1;33m,\u001b[0m \u001b[0mx\u001b[0m\u001b[1;33m)\u001b[0m\u001b[1;33m\u001b[0m\u001b[1;33m\u001b[0m\u001b[0m\n\u001b[0;32m      6\u001b[0m \u001b[1;33m\u001b[0m\u001b[0m\n\u001b[1;32m----> 7\u001b[1;33m \u001b[0mf\u001b[0m\u001b[1;33m(\u001b[0m\u001b[1;33m)\u001b[0m\u001b[1;33m\u001b[0m\u001b[1;33m\u001b[0m\u001b[0m\n\u001b[0m",
      "\u001b[1;32m<ipython-input-15-c69495806db4>\u001b[0m in \u001b[0;36mf\u001b[1;34m()\u001b[0m\n\u001b[0;32m      2\u001b[0m \u001b[0mx\u001b[0m \u001b[1;33m=\u001b[0m \u001b[1;34m'abc'\u001b[0m\u001b[1;33m\u001b[0m\u001b[1;33m\u001b[0m\u001b[0m\n\u001b[0;32m      3\u001b[0m \u001b[1;32mdef\u001b[0m \u001b[0mf\u001b[0m\u001b[1;33m(\u001b[0m\u001b[1;33m)\u001b[0m\u001b[1;33m:\u001b[0m\u001b[1;33m\u001b[0m\u001b[1;33m\u001b[0m\u001b[0m\n\u001b[1;32m----> 4\u001b[1;33m     \u001b[0mx\u001b[0m \u001b[1;33m=\u001b[0m \u001b[0mx\u001b[0m \u001b[1;33m+\u001b[0m \u001b[1;34m'abc'\u001b[0m\u001b[1;33m\u001b[0m\u001b[1;33m\u001b[0m\u001b[0m\n\u001b[0m\u001b[0;32m      5\u001b[0m     \u001b[0mprint\u001b[0m\u001b[1;33m(\u001b[0m\u001b[1;34m\"x = \"\u001b[0m\u001b[1;33m,\u001b[0m \u001b[0mx\u001b[0m\u001b[1;33m)\u001b[0m\u001b[1;33m\u001b[0m\u001b[1;33m\u001b[0m\u001b[0m\n\u001b[0;32m      6\u001b[0m \u001b[1;33m\u001b[0m\u001b[0m\n",
      "\u001b[1;31mUnboundLocalError\u001b[0m: local variable 'x' referenced before assignment"
     ]
    }
   ],
   "source": [
    "#Q7(vi):\n",
    "x = 'abc'\n",
    "def f():\n",
    "    x = x + 'abc'\n",
    "    print(\"x = \", x)\n",
    "    \n",
    "f()"
   ]
  },
  {
   "cell_type": "code",
   "execution_count": null,
   "metadata": {},
   "outputs": [],
   "source": []
  }
 ],
 "metadata": {
  "kernelspec": {
   "display_name": "Python 3",
   "language": "python",
   "name": "python3"
  },
  "language_info": {
   "codemirror_mode": {
    "name": "ipython",
    "version": 3
   },
   "file_extension": ".py",
   "mimetype": "text/x-python",
   "name": "python",
   "nbconvert_exporter": "python",
   "pygments_lexer": "ipython3",
   "version": "3.7.3"
  }
 },
 "nbformat": 4,
 "nbformat_minor": 2
}
