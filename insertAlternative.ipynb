{
 "cells": [
  {
   "cell_type": "code",
   "execution_count": 3,
   "metadata": {},
   "outputs": [],
   "source": [
    "def insertAlt(myList, ele, index = 0):\n",
    "    '''\n",
    "    Objective: To insert an element in the given list at alternate positions\n",
    "    Input Parameters: myList - A list with some elements\n",
    "    Return Values: myList - A list with the given element added at alternate positions\n",
    "    Approach: Recursive \n",
    "    '''\n",
    "    if index < len(myList):\n",
    "        if index % 2 == 0:\n",
    "            myList.insert(index + 1, ele)\n",
    "        return insertAlt(myList, ele, index + 1)\n",
    "    else:\n",
    "        return myList\n",
    "    "
   ]
  },
  {
   "cell_type": "code",
   "execution_count": 5,
   "metadata": {},
   "outputs": [
    {
     "data": {
      "text/plain": [
       "[1, 6]"
      ]
     },
     "execution_count": 5,
     "metadata": {},
     "output_type": "execute_result"
    }
   ],
   "source": [
    "a = [1]\n",
    "insertAlt(a, 6)"
   ]
  },
  {
   "cell_type": "code",
   "execution_count": null,
   "metadata": {},
   "outputs": [],
   "source": []
  }
 ],
 "metadata": {
  "kernelspec": {
   "display_name": "Python 3",
   "language": "python",
   "name": "python3"
  },
  "language_info": {
   "codemirror_mode": {
    "name": "ipython",
    "version": 3
   },
   "file_extension": ".py",
   "mimetype": "text/x-python",
   "name": "python",
   "nbconvert_exporter": "python",
   "pygments_lexer": "ipython3",
   "version": "3.6.5"
  }
 },
 "nbformat": 4,
 "nbformat_minor": 2
}
