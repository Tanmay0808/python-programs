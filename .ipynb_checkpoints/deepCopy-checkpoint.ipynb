{
 "cells": [
  {
   "cell_type": "code",
   "execution_count": 67,
   "metadata": {
    "collapsed": true
   },
   "outputs": [],
   "source": [
    "def copyList(myList, newList = [], index = 0):\n",
    "    '''\n",
    "    Objective: To copy a list\n",
    "    Input Parameters: myList - a list with some elements\n",
    "    Return Values: newList - copied list\n",
    "    Approach: Recursive\n",
    "    '''\n",
    "    if index < len(myList):\n",
    "        if type(myList[index]) == list:\n",
    "            a = copyList(myList[index], newList = [])\n",
    "            newList.append(a)\n",
    "        else:\n",
    "            newList.append(myList[index])\n",
    "        return copyList(myList, newList, index + 1)\n",
    "    else:\n",
    "        return newList"
   ]
  },
  {
   "cell_type": "code",
   "execution_count": 68,
   "metadata": {},
   "outputs": [
    {
     "data": {
      "text/plain": [
       "[2, 5, 6, 23, 12, [1, 4, 7], [6, 7]]"
      ]
     },
     "execution_count": 68,
     "metadata": {},
     "output_type": "execute_result"
    }
   ],
   "source": [
    "a = [2,5,6,23,12,[1,4,7],[6,7]]\n",
    "b = copyList(a)\n",
    "b"
   ]
  },
  {
   "cell_type": "code",
   "execution_count": 71,
   "metadata": {},
   "outputs": [
    {
     "name": "stdout",
     "output_type": "stream",
     "text": [
      "2366107319240 2366107319048\n"
     ]
    }
   ],
   "source": [
    "print(id(a[5]),id(b[5]))"
   ]
  },
  {
   "cell_type": "code",
   "execution_count": null,
   "metadata": {
    "collapsed": true
   },
   "outputs": [],
   "source": []
  }
 ],
 "metadata": {
  "kernelspec": {
   "display_name": "Python 3",
   "language": "python",
   "name": "python3"
  },
  "language_info": {
   "codemirror_mode": {
    "name": "ipython",
    "version": 3
   },
   "file_extension": ".py",
   "mimetype": "text/x-python",
   "name": "python",
   "nbconvert_exporter": "python",
   "pygments_lexer": "ipython3",
   "version": "3.7.3"
  }
 },
 "nbformat": 4,
 "nbformat_minor": 2
}
