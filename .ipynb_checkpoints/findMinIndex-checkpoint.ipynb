{
 "cells": [
  {
   "cell_type": "code",
   "execution_count": 32,
   "metadata": {},
   "outputs": [],
   "source": [
    "def minIndex(myList, first, last, minind = 0):\n",
    "    '''\n",
    "    Objective: to find index of min element in a list between two indexes\n",
    "    Input Parameters:\n",
    "        first: first index \n",
    "        last: last index\n",
    "    Return Values: \n",
    "        minind: minimum index\n",
    "    Approach: Using Recursion\n",
    "    '''\n",
    "    if first <= last:\n",
    "        if myList[first] < myList[minind]:\n",
    "            minind = first\n",
    "        return minIndex(myList, first+1, last, minind)\n",
    "    else:\n",
    "        return minind\n",
    "    "
   ]
  },
  {
   "cell_type": "code",
   "execution_count": 36,
   "metadata": {},
   "outputs": [
    {
     "data": {
      "text/plain": [
       "7"
      ]
     },
     "execution_count": 36,
     "metadata": {},
     "output_type": "execute_result"
    }
   ],
   "source": [
    "a = [22,20,9,75,2,8,67,1]\n",
    "minIndex(a, 0, 7)"
   ]
  },
  {
   "cell_type": "code",
   "execution_count": null,
   "metadata": {},
   "outputs": [],
   "source": []
  }
 ],
 "metadata": {
  "kernelspec": {
   "display_name": "Python 3",
   "language": "python",
   "name": "python3"
  },
  "language_info": {
   "codemirror_mode": {
    "name": "ipython",
    "version": 3
   },
   "file_extension": ".py",
   "mimetype": "text/x-python",
   "name": "python",
   "nbconvert_exporter": "python",
   "pygments_lexer": "ipython3",
   "version": "3.7.3"
  }
 },
 "nbformat": 4,
 "nbformat_minor": 2
}
