{
 "cells": [
  {
   "cell_type": "code",
   "execution_count": 3,
   "metadata": {},
   "outputs": [],
   "source": [
    "def sList(newList, element, initial = 0, final = -2):\n",
    "    '''\n",
    "    Objective: to insert an element in a sorted list and list should remain sorted after insertion\n",
    "    Input Parameters: A sorted list\n",
    "    Return Values: A sorted list with an inserted element\n",
    "    '''\n",
    "    #Approach:\n",
    "    if final == -2:\n",
    "        final = len(newList)-1\n",
    "    if final <= initial:\n",
    "        newList.insert(initial, element)\n",
    "        return newList\n",
    "    else:\n",
    "        mid = int((initial + final)/2)\n",
    "        if element < newList[mid]:\n",
    "            return sList(newList, element, initial, mid-1)\n",
    "        else:\n",
    "            return sList(newList, element, mid+1, final)"
   ]
  },
  {
   "cell_type": "code",
   "execution_count": 4,
   "metadata": {},
   "outputs": [
    {
     "data": {
      "text/plain": [
       "[10, 12, 20, 25, 30, 40]"
      ]
     },
     "execution_count": 4,
     "metadata": {},
     "output_type": "execute_result"
    }
   ],
   "source": [
    "sList([10,20,25,30,40],12)"
   ]
  },
  {
   "cell_type": "code",
   "execution_count": 5,
   "metadata": {},
   "outputs": [],
   "source": [
    "def sList2(newList, element, initial = 0, final = -2):\n",
    "    '''\n",
    "    Objective: to insert an element in a sorted list and list should remain sorted after insertion\n",
    "    Input Parameters: A sorted list\n",
    "    Return Values: A sorted list with an inserted element\n",
    "    '''\n",
    "    #Approach:\n",
    "    if final == -2:\n",
    "        final = len(newList)-1\n",
    "\n",
    "    mid = int((initial + final)/2)\n",
    "    if element < newList[mid]:\n",
    "        return sList(newList, element, initial, mid-1)\n",
    "    elif element > newList[mid]:\n",
    "        return sList(newList, element, mid+1, final)\n",
    "    else:\n",
    "        newList.insert(mid, element)\n",
    "        return newList"
   ]
  },
  {
   "cell_type": "code",
   "execution_count": 6,
   "metadata": {},
   "outputs": [
    {
     "data": {
      "text/plain": [
       "[10, 12, 20, 25, 30, 40]"
      ]
     },
     "execution_count": 6,
     "metadata": {},
     "output_type": "execute_result"
    }
   ],
   "source": [
    "sList2([10,20,25,30,40],12)"
   ]
  },
  {
   "cell_type": "code",
   "execution_count": null,
   "metadata": {},
   "outputs": [],
   "source": []
  }
 ],
 "metadata": {
  "kernelspec": {
   "display_name": "Python 3",
   "language": "python",
   "name": "python3"
  },
  "language_info": {
   "codemirror_mode": {
    "name": "ipython",
    "version": 3
   },
   "file_extension": ".py",
   "mimetype": "text/x-python",
   "name": "python",
   "nbconvert_exporter": "python",
   "pygments_lexer": "ipython3",
   "version": "3.7.3"
  }
 },
 "nbformat": 4,
 "nbformat_minor": 2
}
