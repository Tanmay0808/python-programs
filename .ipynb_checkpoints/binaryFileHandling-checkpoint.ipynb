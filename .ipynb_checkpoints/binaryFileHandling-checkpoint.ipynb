{
 "cells": [
  {
   "cell_type": "code",
   "execution_count": 234,
   "metadata": {},
   "outputs": [],
   "source": [
    "import pickle\n",
    "\n",
    "class Student:\n",
    "    def __init__(self, rollno, name, marks):\n",
    "        '''\n",
    "        Objective: To initialize data in the class\n",
    "        Input Parameters:\n",
    "                    self: Object of type person\n",
    "                    rollno: integer, Roll No. of the student\n",
    "                    name: String, Name of the student\n",
    "                    marks: integer, Marks of the student\n",
    "        Return Values: None\n",
    "        '''\n",
    "        self.rollno = rollno\n",
    "        self.name = name\n",
    "        self.marks = marks\n",
    "        \n",
    "    def loadFile(mode):\n",
    "        file = open('student', mode)\n",
    "        return file\n",
    "    \n",
    "    def writeFile(self, file):\n",
    "        '''\n",
    "        Objective: To write student's data to the file\n",
    "        Input Parameters: self: implicit parameter\n",
    "        Return Values: None\n",
    "        '''\n",
    "        pickle.dump([self.rollno, self.name, self.marks], file)\n",
    "        \n",
    "    def readFile():\n",
    "        '''\n",
    "        Objective: To read student's data from the file\n",
    "        Input Parameters: self: implicit parameter\n",
    "        Return Values: None\n",
    "        '''\n",
    "        file = open('student', 'rb')\n",
    "        read = pickle.load(file)\n",
    "        while(read != None):\n",
    "            print(read)\n",
    "            read = pickle.load(file)\n",
    "        file.close()"
   ]
  },
  {
   "cell_type": "code",
   "execution_count": 235,
   "metadata": {},
   "outputs": [],
   "source": [
    "p1 = Student(1, 'Shubham pal120', 100)\n",
    "p2 = Student(2, 'Ravi', 90)\n",
    "file = Student.loadFile('wb')"
   ]
  },
  {
   "cell_type": "code",
   "execution_count": 236,
   "metadata": {},
   "outputs": [],
   "source": [
    "Student.writeFile(p1, file)\n",
    "Student.writeFile(p2, file)"
   ]
  },
  {
   "cell_type": "code",
   "execution_count": 237,
   "metadata": {},
   "outputs": [
    {
     "name": "stdout",
     "output_type": "stream",
     "text": [
      "[1, 'Shubham pal120', 100]\n",
      "[2, 'Ravi', 90]\n"
     ]
    },
    {
     "ename": "EOFError",
     "evalue": "Ran out of input",
     "output_type": "error",
     "traceback": [
      "\u001b[1;31m---------------------------------------------------------------------------\u001b[0m",
      "\u001b[1;31mEOFError\u001b[0m                                  Traceback (most recent call last)",
      "\u001b[1;32m<ipython-input-237-2d626b825093>\u001b[0m in \u001b[0;36m<module>\u001b[1;34m()\u001b[0m\n\u001b[1;32m----> 1\u001b[1;33m \u001b[0mStudent\u001b[0m\u001b[1;33m.\u001b[0m\u001b[0mreadFile\u001b[0m\u001b[1;33m(\u001b[0m\u001b[1;33m)\u001b[0m\u001b[1;33m\u001b[0m\u001b[0m\n\u001b[0m",
      "\u001b[1;32m<ipython-input-234-ed6cd27fb250>\u001b[0m in \u001b[0;36mreadFile\u001b[1;34m()\u001b[0m\n\u001b[0;32m     38\u001b[0m         \u001b[1;32mwhile\u001b[0m\u001b[1;33m(\u001b[0m\u001b[0mread\u001b[0m \u001b[1;33m!=\u001b[0m \u001b[1;32mNone\u001b[0m\u001b[1;33m)\u001b[0m\u001b[1;33m:\u001b[0m\u001b[1;33m\u001b[0m\u001b[0m\n\u001b[0;32m     39\u001b[0m             \u001b[0mprint\u001b[0m\u001b[1;33m(\u001b[0m\u001b[0mread\u001b[0m\u001b[1;33m)\u001b[0m\u001b[1;33m\u001b[0m\u001b[0m\n\u001b[1;32m---> 40\u001b[1;33m             \u001b[0mread\u001b[0m \u001b[1;33m=\u001b[0m \u001b[0mpickle\u001b[0m\u001b[1;33m.\u001b[0m\u001b[0mload\u001b[0m\u001b[1;33m(\u001b[0m\u001b[0mfile\u001b[0m\u001b[1;33m)\u001b[0m\u001b[1;33m\u001b[0m\u001b[0m\n\u001b[0m\u001b[0;32m     41\u001b[0m         \u001b[0mfile\u001b[0m\u001b[1;33m.\u001b[0m\u001b[0mclose\u001b[0m\u001b[1;33m(\u001b[0m\u001b[1;33m)\u001b[0m\u001b[1;33m\u001b[0m\u001b[0m\n",
      "\u001b[1;31mEOFError\u001b[0m: Ran out of input"
     ]
    }
   ],
   "source": [
    "Student.readFile()"
   ]
  },
  {
   "cell_type": "code",
   "execution_count": null,
   "metadata": {},
   "outputs": [],
   "source": []
  },
  {
   "cell_type": "code",
   "execution_count": null,
   "metadata": {},
   "outputs": [],
   "source": []
  },
  {
   "cell_type": "code",
   "execution_count": null,
   "metadata": {},
   "outputs": [],
   "source": []
  }
 ],
 "metadata": {
  "kernelspec": {
   "display_name": "Python 3",
   "language": "python",
   "name": "python3"
  },
  "language_info": {
   "codemirror_mode": {
    "name": "ipython",
    "version": 3
   },
   "file_extension": ".py",
   "mimetype": "text/x-python",
   "name": "python",
   "nbconvert_exporter": "python",
   "pygments_lexer": "ipython3",
   "version": "3.7.3"
  }
 },
 "nbformat": 4,
 "nbformat_minor": 2
}
