{
 "cells": [
  {
   "cell_type": "code",
   "execution_count": 1,
   "metadata": {},
   "outputs": [],
   "source": [
    "import sys\n",
    "class MyDate:\n",
    "    ''' A simple implementation of date as a class '''\n",
    "    def __init__(self, day = 1, month = 1, year = 2000):\n",
    "        if not(type(day) == int and type(month) == int and type(year) == int):\n",
    "            print('Invalid data provided for date.')\n",
    "            sys.exit()\n",
    "        \n",
    "        if month > 0 and month <= 12:\n",
    "            self.month = month\n",
    "        else:\n",
    "            print('Invalid value for month.')\n",
    "            sys.exit()\n",
    "        \n",
    "        if year > 1900:\n",
    "            self.year = year\n",
    "        else:\n",
    "            print('Invalid value for year. Year should be greater than 1900.')\n",
    "            sys.exit()\n",
    "            \n",
    "        self.day = self.checkDay(day)\n",
    "        \n",
    "    def checkDay(self, day):\n",
    "        '''\n",
    "        Objective: To validate day component\n",
    "        Input Parameters:\n",
    "                        self (implicit parameter) - object of type MyDate\n",
    "                        day - numeric\n",
    "        Return Value: day if it is correct else message 'Invalid value for the day'\n",
    "        '''\n",
    "        #currentYear: list of no. of days in months of current year\n",
    "        \n",
    "        if self.year % 400 == 0 or (self.year % 100 != 0 and self.year%4 == 0): #if leap year\n",
    "            currentYear = [31, 29, 31, 30, 31, 30, 31, 31, 30, 31, 30, 31]\n",
    "        else:\n",
    "            currentYear = [31, 28, 31, 30, 31, 30, 31, 31, 30, 31, 30, 31]\n",
    "            \n",
    "        if (day > 0 and day <= currentYear[self.month - 1]):\n",
    "            return day\n",
    "        else:\n",
    "            print('Invalid value for the day.')\n",
    "            sys.exit()\n",
    "            \n",
    "    def __str__(self):\n",
    "        #Approach: use dd-mm-yyyy format\n",
    "        if self.day <= 9:\n",
    "            day = '0' + str(self.day)\n",
    "        else:\n",
    "            day = str(self.day)\n",
    "            \n",
    "        if self.month <= 9:\n",
    "            month = '0' + str(self.month)\n",
    "        else:\n",
    "            month = str(self.month)\n",
    "        \n",
    "        return day + '-' + month + '-' + str(self.year)\n"
   ]
  },
  {
   "cell_type": "code",
   "execution_count": 2,
   "metadata": {},
   "outputs": [],
   "source": [
    "today = MyDate(12,12,2019)"
   ]
  },
  {
   "cell_type": "code",
   "execution_count": 3,
   "metadata": {},
   "outputs": [
    {
     "name": "stdout",
     "output_type": "stream",
     "text": [
      "12-12-2019\n"
     ]
    }
   ],
   "source": [
    "print(today)"
   ]
  },
  {
   "cell_type": "code",
   "execution_count": 4,
   "metadata": {},
   "outputs": [],
   "source": [
    "date = MyDate()"
   ]
  },
  {
   "cell_type": "code",
   "execution_count": 5,
   "metadata": {},
   "outputs": [
    {
     "name": "stdout",
     "output_type": "stream",
     "text": [
      "01-01-2000\n"
     ]
    }
   ],
   "source": [
    "print(date)"
   ]
  },
  {
   "cell_type": "code",
   "execution_count": null,
   "metadata": {},
   "outputs": [],
   "source": []
  }
 ],
 "metadata": {
  "kernelspec": {
   "display_name": "Python 3",
   "language": "python",
   "name": "python3"
  },
  "language_info": {
   "codemirror_mode": {
    "name": "ipython",
    "version": 3
   },
   "file_extension": ".py",
   "mimetype": "text/x-python",
   "name": "python",
   "nbconvert_exporter": "python",
   "pygments_lexer": "ipython3",
   "version": "3.7.3"
  }
 },
 "nbformat": 4,
 "nbformat_minor": 2
}
