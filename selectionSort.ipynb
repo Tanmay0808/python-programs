{
 "cells": [
  {
   "cell_type": "code",
   "execution_count": 3,
   "metadata": {},
   "outputs": [],
   "source": [
    "#Selection Sort\n",
    "\n",
    "def minIndex(lst, first, last, minInd = 0):\n",
    "    '''\n",
    "    Objective: to find index of min element in a list between two indexes\n",
    "    Input Parameters:\n",
    "        first: first index \n",
    "        last: last index\n",
    "    Return Values: \n",
    "        minind: minimum index\n",
    "    '''\n",
    "    if first <= last:\n",
    "        if lst[first] < lst[minInd]:\n",
    "            minInd = first\n",
    "        return minIndex(lst, first+1, last, minInd)\n",
    "    else:\n",
    "        return minInd\n",
    "    \n",
    "def selectionSort(myList, i = 0):\n",
    "    '''\n",
    "    Objective: To sort the list in ascending order using minIndex function\n",
    "    Input parameters: myList - list to be sorted\n",
    "                      i - numeric value, index of the list (default = 0)\n",
    "    Return Values: mylist - sorted list\n",
    "    '''\n",
    "    if len(myList) == i:\n",
    "        return myList\n",
    "    else:\n",
    "        minInd = minIndex(myList, i, len(myList)-1, i)\n",
    "        myList[i], myList[minInd] = myList[minInd], myList[i]\n",
    "        return selectionSort(myList, i + 1)"
   ]
  },
  {
   "cell_type": "code",
   "execution_count": 4,
   "metadata": {},
   "outputs": [
    {
     "data": {
      "text/plain": [
       "[2, 8, 8, 9, 20, 22, 67, 75]"
      ]
     },
     "execution_count": 4,
     "metadata": {},
     "output_type": "execute_result"
    }
   ],
   "source": [
    "a = [22,20,9,75,2,8,67,8]\n",
    "selectionSort(a)"
   ]
  },
  {
   "cell_type": "code",
   "execution_count": null,
   "metadata": {},
   "outputs": [],
   "source": []
  }
 ],
 "metadata": {
  "kernelspec": {
   "display_name": "Python 3",
   "language": "python",
   "name": "python3"
  },
  "language_info": {
   "codemirror_mode": {
    "name": "ipython",
    "version": 3
   },
   "file_extension": ".py",
   "mimetype": "text/x-python",
   "name": "python",
   "nbconvert_exporter": "python",
   "pygments_lexer": "ipython3",
   "version": "3.7.3"
  }
 },
 "nbformat": 4,
 "nbformat_minor": 2
}
