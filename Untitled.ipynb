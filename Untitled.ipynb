{
 "cells": [
  {
   "cell_type": "code",
   "execution_count": null,
   "metadata": {},
   "outputs": [],
   "source": [
    "def copyLst(lst, lst1 = [], i = 0):\n",
    "\n",
    "    if len(lst) == 0:\n",
    "\n",
    "        return lst1\n",
    "\n",
    "    else:\n",
    "\n",
    "        if i != len(lst):\n",
    "\n",
    "            lst1.append(lst[i])\n",
    "\n",
    "            copyLst(lst[1:], lst1, i+1)\n",
    "\n",
    "            return lst1\n",
    "\n",
    "        else:\n",
    "\n",
    "            return lst1\n",
    "\n"
   ]
  },
  {
   "cell_type": "code",
   "execution_count": null,
   "metadata": {},
   "outputs": [],
   "source": [
    "lst = [10, 20, 30]\n",
    "\n",
    "lst1 = copyLst(lst)\n",
    "\n",
    "print(lst1)"
   ]
  },
  {
   "cell_type": "code",
   "execution_count": null,
   "metadata": {},
   "outputs": [],
   "source": [
    "def percentage(marks, total):\n",
    "    try:\n",
    "        percent = (marks / total) * 100\n",
    "    except ValueError:\n",
    "        print('ValueError')\n",
    "    except TypeError:\n",
    "        print('TypeError')\n",
    "    except ZeroDivisionError:\n",
    "        print('ZeroDivisionError')\n",
    "    except:\n",
    "        print('Any Other Error')\n",
    "    else:\n",
    "        print(percent)\n",
    "    finally:\n",
    "        print(\"Function Percentage Complete\")\n",
    "        \n",
    "percentage(150, 200)\n",
    "percentage(150, 0)\n",
    "percentage('150', '200')\n",
    "percentage(100, 200.0)"
   ]
  },
  {
   "cell_type": "code",
   "execution_count": null,
   "metadata": {},
   "outputs": [],
   "source": [
    "a = 20\n",
    "\n",
    "def test():\n",
    "    global a\n",
    "    b = 30\n",
    "    a = 40\n",
    "    print(\"A: \", a)\n",
    "    print(\"B: \", b)\n",
    "    \n",
    "test()\n",
    "\n",
    "print(\"A: \", a)\n",
    "print(\"B: \", b)"
   ]
  },
  {
   "cell_type": "code",
   "execution_count": null,
   "metadata": {},
   "outputs": [],
   "source": [
    "z = 2\n",
    " \n",
    "def demo():\n",
    "    z = z+1\n",
    "    print(z)\n",
    "    \n",
    "demo()\n",
    "print(z)"
   ]
  },
  {
   "cell_type": "code",
   "execution_count": null,
   "metadata": {},
   "outputs": [],
   "source": [
    "a = 4\n",
    "\n",
    "def f():\n",
    "    a = 5\n",
    "    print(\"in f a = \", a)\n",
    "    def g():\n",
    "        nonlocal a\n",
    "        a = 10\n",
    "        print(\"in g a = \", a)\n",
    "        def h():\n",
    "            nonlocal a\n",
    "            a = 20\n",
    "            print(\"in h a = \", a)\n",
    "        h()\n",
    "    g()\n",
    "    print(\"in f a = \", a)\n",
    "f()"
   ]
  },
  {
   "cell_type": "code",
   "execution_count": null,
   "metadata": {
    "scrolled": true
   },
   "outputs": [],
   "source": [
    "def pattern(number):\n",
    "    '''\n",
    "    Objective: To print a pattern of numbers\n",
    "    Input Parameter: number - a number\n",
    "    Return Values: A pattern will be printed\n",
    "    '''\n",
    "    for i in range(1, (number+1)):\n",
    "        for j in range(1, i+1):\n",
    "            print(j, end = \" \")\n",
    "        print('')\n",
    "        \n",
    "pattern(4)"
   ]
  },
  {
   "cell_type": "code",
   "execution_count": null,
   "metadata": {},
   "outputs": [],
   "source": [
    "def cumulativeList(lst, mlst = [], i = 0):\n",
    "    '''\n",
    "    Objective: To create a cumulative list\n",
    "    Input Parameters: lst - A list\n",
    "    Return Values: A cumulative list\n",
    "    '''\n",
    "    if i == len(lst):\n",
    "        return mlst\n",
    "    if i == 0:\n",
    "        mlst.append(lst[0])\n",
    "        return cumulativeList(lst, mlst, i+1)\n",
    "    else:\n",
    "        mlst.append(mlst[i-1]+lst[i])\n",
    "        return cumulativeList(lst, mlst, i+1)\n",
    "        \n",
    "        "
   ]
  },
  {
   "cell_type": "code",
   "execution_count": null,
   "metadata": {},
   "outputs": [],
   "source": [
    "lst = [3,6,4,8,5]\n",
    "cumulativeList(lst)"
   ]
  },
  {
   "cell_type": "code",
   "execution_count": null,
   "metadata": {},
   "outputs": [],
   "source": [
    "def rightTriangle(n):\n",
    "    for i in range(1, n+1):\n",
    "        print('*'*i)\n",
    "\n",
    "rightTriangle(4)"
   ]
  },
  {
   "cell_type": "code",
   "execution_count": null,
   "metadata": {},
   "outputs": [],
   "source": [
    "def invertedTriangle(n):\n",
    "    nSpaces = 0\n",
    "    nStars = 2*n - 1\n",
    "    for i in range(1, n+1):\n",
    "        print(' ' * nSpaces + '*' * nStars)\n",
    "        nSpaces += 1\n",
    "        nStars -= 2\n",
    "        \n",
    "invertedTriangle(5)"
   ]
  },
  {
   "cell_type": "code",
   "execution_count": 29,
   "metadata": {},
   "outputs": [
    {
     "name": "stdout",
     "output_type": "stream",
     "text": [
      "         1\n",
      "\n",
      "        212\n",
      "\n",
      "       32123\n",
      "\n",
      "      4321234\n",
      "\n",
      "     543212345\n",
      "\n"
     ]
    }
   ],
   "source": [
    "def numberTriangle(n):\n",
    "    assert n>0 and n<=9\n",
    "    nSpaces = 2*n - 1\n",
    "    for row in range(1, n + 1):\n",
    "        print(' ' * nSpaces, end = \"\")\n",
    "        for column in range(row, 0, -1):\n",
    "            print(column, end = \"\")\n",
    "        for column in range(2, row + 1):\n",
    "            print(column, end = \"\")\n",
    "        print('\\n')\n",
    "        nSpaces -= 1\n",
    "        \n",
    "numberTriangle(5)"
   ]
  },
  {
   "cell_type": "code",
   "execution_count": 10,
   "metadata": {},
   "outputs": [
    {
     "name": "stdout",
     "output_type": "stream",
     "text": [
      "In test: globalVar:  30\n",
      "In test: localvar:  20\n",
      "30\n"
     ]
    }
   ],
   "source": [
    "globalVar = 10\n",
    "def test():\n",
    "    localVar = 20\n",
    "    global globalVar\n",
    "    globalVar = 30\n",
    "    print('In test: globalVar: ', globalVar)\n",
    "    print('In test: localvar: ', localVar)\n",
    "test()\n",
    "print(globalVar)"
   ]
  },
  {
   "cell_type": "code",
   "execution_count": 11,
   "metadata": {},
   "outputs": [
    {
     "name": "stdout",
     "output_type": "stream",
     "text": [
      "Inside function test2:  8\n",
      "Outside function test2:  8\n"
     ]
    }
   ],
   "source": [
    "def test1():\n",
    "    test1.a = 10\n",
    "    def test2():\n",
    "        test1.a = 8\n",
    "        print(\"Inside function test2: \", test1.a)\n",
    "    test2()\n",
    "    print('Outside function test2: ', test1.a)\n",
    "test1()"
   ]
  },
  {
   "cell_type": "code",
   "execution_count": 14,
   "metadata": {},
   "outputs": [
    {
     "name": "stdout",
     "output_type": "stream",
     "text": [
      "inside g:  10\n",
      "inside h:  20\n",
      "inside f:  20\n"
     ]
    }
   ],
   "source": [
    "a = 4\n",
    "def f():\n",
    "    a = 5\n",
    "    def g():\n",
    "        nonlocal a\n",
    "        a = 10\n",
    "        print(\"inside g: \", a)\n",
    "        def h():\n",
    "            nonlocal a\n",
    "            a = 20\n",
    "            print(\"inside h: \", a)\n",
    "        h()\n",
    "    g()\n",
    "    print('inside f: ', a)\n",
    "f()"
   ]
  },
  {
   "cell_type": "code",
   "execution_count": 21,
   "metadata": {},
   "outputs": [
    {
     "name": "stdout",
     "output_type": "stream",
     "text": [
      "2\n",
      "3\n"
     ]
    }
   ],
   "source": [
    "x = 2\n",
    "def test():\n",
    "    global x\n",
    "    x = x + 1\n",
    "    print(x)\n",
    "print(x)\n",
    "test()"
   ]
  },
  {
   "cell_type": "code",
   "execution_count": 34,
   "metadata": {},
   "outputs": [
    {
     "ename": "ZeroDivisionError",
     "evalue": "division by zero",
     "output_type": "error",
     "traceback": [
      "\u001b[1;31m---------------------------------------------------------------------------\u001b[0m",
      "\u001b[1;31mZeroDivisionError\u001b[0m                         Traceback (most recent call last)",
      "\u001b[1;32m<ipython-input-34-95881eb9d089>\u001b[0m in \u001b[0;36m<module>\u001b[1;34m\u001b[0m\n\u001b[1;32m----> 1\u001b[1;33m \u001b[1;33m(\u001b[0m\u001b[1;33m(\u001b[0m\u001b[1;36m1\u001b[0m\u001b[1;33m<\u001b[0m\u001b[1;36m5\u001b[0m\u001b[1;33m)\u001b[0m\u001b[1;32mand\u001b[0m \u001b[1;33m(\u001b[0m\u001b[1;36m9\u001b[0m\u001b[1;33m/\u001b[0m\u001b[1;36m0\u001b[0m\u001b[1;33m)\u001b[0m\u001b[1;33m)\u001b[0m\u001b[1;33m\u001b[0m\u001b[1;33m\u001b[0m\u001b[0m\n\u001b[0m",
      "\u001b[1;31mZeroDivisionError\u001b[0m: division by zero"
     ]
    }
   ],
   "source": [
    "((1<5)and (9/0)) "
   ]
  },
  {
   "cell_type": "code",
   "execution_count": 36,
   "metadata": {},
   "outputs": [
    {
     "ename": "ZeroDivisionError",
     "evalue": "division by zero",
     "output_type": "error",
     "traceback": [
      "\u001b[1;31m---------------------------------------------------------------------------\u001b[0m",
      "\u001b[1;31mZeroDivisionError\u001b[0m                         Traceback (most recent call last)",
      "\u001b[1;32m<ipython-input-36-289021db0d3c>\u001b[0m in \u001b[0;36m<module>\u001b[1;34m\u001b[0m\n\u001b[1;32m----> 1\u001b[1;33m \u001b[1;33m(\u001b[0m\u001b[1;33m(\u001b[0m\u001b[1;36m11\u001b[0m\u001b[1;33m<\u001b[0m\u001b[1;36m5\u001b[0m\u001b[1;33m)\u001b[0m \u001b[1;32mor\u001b[0m \u001b[1;33m(\u001b[0m\u001b[1;36m9\u001b[0m\u001b[1;33m/\u001b[0m\u001b[1;36m0\u001b[0m\u001b[1;33m)\u001b[0m\u001b[1;33m)\u001b[0m\u001b[1;33m\u001b[0m\u001b[1;33m\u001b[0m\u001b[0m\n\u001b[0m",
      "\u001b[1;31mZeroDivisionError\u001b[0m: division by zero"
     ]
    }
   ],
   "source": [
    "((11<5) or (9/0)) "
   ]
  },
  {
   "cell_type": "code",
   "execution_count": 9,
   "metadata": {},
   "outputs": [],
   "source": [
    "def buildInvDict(dict1):\n",
    "    '''\n",
    "    Objective: To Construct inverted dictionary\n",
    "    Input Parameter: dict1 - dictionary\n",
    "    Return Values: invDict - dictionary\n",
    "    '''\n",
    "    invDict = {} #empty dictionary\n",
    "    \n",
    "    for key, value in dict1.items(): #iterating through the each key, value pair of given dictionary\n",
    "        if value in invDict:     #if value of given dicionary is already included in invDict as a key\n",
    "            invDict[value].append(key)\n",
    "        else:#if value of given dictionary is not already in invDict then we are adding value at key of dict1 as a key in invDIct\n",
    "            invDict[value] = [key]\n",
    "    #removing the words having single meaning\n",
    "    invDict = {x:invDict[x] for x in invDict if len(invDict[x])>1}\n",
    "    return invDict"
   ]
  },
  {
   "cell_type": "code",
   "execution_count": 10,
   "metadata": {},
   "outputs": [
    {
     "name": "stdout",
     "output_type": "stream",
     "text": [
      "Enter word meaning dictionary: {'a':'1', 'b':'2', 'c':'1', 'd':'1', 'e':'2', 'f':'3'}\n",
      "Inverted Dictionary: \n",
      " {'1': ['a', 'c', 'd'], '2': ['b', 'e']}\n"
     ]
    }
   ],
   "source": [
    "def main():\n",
    "    '''\n",
    "    Objective: To find inverted dictionary\n",
    "    Input Paameters: none\n",
    "    Return Values: None\n",
    "    '''\n",
    "    wordMeaning = eval(input('Enter word meaning dictionary: '))\n",
    "    meaningWord = buildInvDict(wordMeaning)\n",
    "    print('Inverted Dictionary: \\n', meaningWord)\n",
    "    \n",
    "if __name__ == '__main__':\n",
    "    main()"
   ]
  },
  {
   "cell_type": "code",
   "execution_count": 22,
   "metadata": {},
   "outputs": [
    {
     "data": {
      "text/plain": [
       "5040"
      ]
     },
     "execution_count": 22,
     "metadata": {},
     "output_type": "execute_result"
    }
   ],
   "source": [
    "def factorial(number):\n",
    "    '''\n",
    "    Objective: To calculate the factorial of given number\n",
    "    Input Parameters: number - numeric value\n",
    "    Return Values; number - factorial\n",
    "    '''\n",
    "    assert number >= 0 \n",
    "    if number == 0 or number == 1:\n",
    "        return 1\n",
    "    else:\n",
    "        return number * factorial(number - 1)\n",
    "    \n",
    "factorial(7)"
   ]
  },
  {
   "cell_type": "code",
   "execution_count": 30,
   "metadata": {},
   "outputs": [
    {
     "data": {
      "text/plain": [
       "13"
      ]
     },
     "execution_count": 30,
     "metadata": {},
     "output_type": "execute_result"
    }
   ],
   "source": [
    "def fibonacci(n):\n",
    "    if n == 1:\n",
    "        return 0\n",
    "    elif n == 2:\n",
    "        return 1\n",
    "    else:\n",
    "        return fibonacci(n-1) + fibonacci(n-2)\n",
    "\n",
    "fibonacci(8)"
   ]
  },
  {
   "cell_type": "code",
   "execution_count": 34,
   "metadata": {},
   "outputs": [
    {
     "data": {
      "text/plain": [
       "7"
      ]
     },
     "execution_count": 34,
     "metadata": {},
     "output_type": "execute_result"
    }
   ],
   "source": [
    "def lenOfStr(string):\n",
    "    if string == '':\n",
    "        return 0\n",
    "    else:\n",
    "        return 1 + lenOfStr(string[1:])\n",
    "    \n",
    "lenOfStr(\"Shubham\")"
   ]
  },
  {
   "cell_type": "code",
   "execution_count": 37,
   "metadata": {},
   "outputs": [
    {
     "data": {
      "text/plain": [
       "'mahbuhS'"
      ]
     },
     "execution_count": 37,
     "metadata": {},
     "output_type": "execute_result"
    }
   ],
   "source": [
    "def revStr(string):\n",
    "    if string == '':\n",
    "        return string\n",
    "    else:\n",
    "        return string[-1] + revStr(string[:-1])\n",
    "    \n",
    "revStr(\"Shubham\")"
   ]
  },
  {
   "cell_type": "code",
   "execution_count": 42,
   "metadata": {},
   "outputs": [
    {
     "data": {
      "text/plain": [
       "'Palindrome'"
      ]
     },
     "execution_count": 42,
     "metadata": {},
     "output_type": "execute_result"
    }
   ],
   "source": [
    "def palindrome(string):\n",
    "    if string == revStr(string):\n",
    "        return \"Palindrome\"\n",
    "    else:\n",
    "        return \"Not Palindrome\"\n",
    "\n",
    "palindrome('naman')"
   ]
  },
  {
   "cell_type": "code",
   "execution_count": 58,
   "metadata": {},
   "outputs": [
    {
     "data": {
      "text/plain": [
       "[1, 5, 1, 1, 2, 5, 6, 5, 6]"
      ]
     },
     "execution_count": 58,
     "metadata": {},
     "output_type": "execute_result"
    }
   ],
   "source": [
    "def flattenList(lst, mlst = [], i = 0):\n",
    "    if len(lst) == i:\n",
    "        return\n",
    "    else:\n",
    "        if type(lst[i]) == list:\n",
    "            flattenList(lst[i], mlst, 0)\n",
    "        else:\n",
    "            mlst.append(lst[i])\n",
    "        flattenList(lst, mlst, i+1)\n",
    "    return mlst\n",
    "    \n",
    "a = [[1,[[[5],1,[],[1,2,[5,6]]]], [[[5,],[[[[]]]], 6]]]]\n",
    "flattenList(a)"
   ]
  },
  {
   "cell_type": "code",
   "execution_count": 61,
   "metadata": {},
   "outputs": [
    {
     "data": {
      "text/plain": [
       "[1, 2, 4, [5, 6, 7], 7, [8, 9]]"
      ]
     },
     "execution_count": 61,
     "metadata": {},
     "output_type": "execute_result"
    }
   ],
   "source": [
    "def deepCopy(lst, newLst = [], i = 0):\n",
    "    if len(lst) == i:\n",
    "        return newLst\n",
    "    else:\n",
    "        if type(lst[i]) == list:\n",
    "            a = deepCopy(lst[i], newLst = [])\n",
    "            newLst.append(a)\n",
    "        else:\n",
    "            newLst.append(lst[i])\n",
    "        return deepCopy(lst, newLst, i+1)\n",
    "    \n",
    "a = [1,2,4,[5,6,7],7,[8,9]]\n",
    "b = deepCopy(a)\n",
    "b"
   ]
  },
  {
   "cell_type": "code",
   "execution_count": 65,
   "metadata": {},
   "outputs": [
    {
     "name": "stdout",
     "output_type": "stream",
     "text": [
      "1796055844680 1796056293128\n"
     ]
    }
   ],
   "source": [
    "print(id(a[3]),id(b[3]))"
   ]
  },
  {
   "cell_type": "code",
   "execution_count": 69,
   "metadata": {},
   "outputs": [
    {
     "name": "stdout",
     "output_type": "stream",
     "text": [
      "Move a disk from  A  to  C\n",
      "Move a disk from  A  to  B\n",
      "Move a disk from  C  to  B\n",
      "Move a disk from  A  to  C\n",
      "Move a disk from  B  to  A\n",
      "Move a disk from  B  to  C\n",
      "Move a disk from  A  to  C\n"
     ]
    }
   ],
   "source": [
    "def hanoi(n, source, spare, target):\n",
    "    if n == 1:\n",
    "        print(\"Move a disk from \", source, \" to \", target)\n",
    "    elif n == 0:\n",
    "        return \n",
    "    else:\n",
    "        hanoi(n-1, source, target, spare)\n",
    "        print(\"Move a disk from \", source, \" to \", target)\n",
    "        hanoi(n-1, spare, source, target)\n",
    "\n",
    "hanoi(3, 'A', 'B', 'C')"
   ]
  },
  {
   "cell_type": "code",
   "execution_count": 94,
   "metadata": {},
   "outputs": [],
   "source": [
    "#Selection Sort\n",
    "\n",
    "def minIndex(lst, first, last, minInd = 0):\n",
    "    if first <= last:\n",
    "        if lst[first] < lst[minInd]:\n",
    "            minInd = first\n",
    "        return minIndex(lst, first+1, last, minInd)\n",
    "    else:\n",
    "        return minInd\n",
    "    \n",
    "def selectionSort(myList, i = 0):\n",
    "    if len(myList) == i:\n",
    "        return myList\n",
    "    else:\n",
    "        minInd = minIndex(myList, i, len(myList)-1, i)\n",
    "        myList[i], myList[minInd] = myList[minInd], myList[i]\n",
    "        return selectionSort(myList, i + 1)"
   ]
  },
  {
   "cell_type": "code",
   "execution_count": 95,
   "metadata": {},
   "outputs": [
    {
     "data": {
      "text/plain": [
       "[2, 8, 8, 9, 20, 22, 67, 75]"
      ]
     },
     "execution_count": 95,
     "metadata": {},
     "output_type": "execute_result"
    }
   ],
   "source": [
    "a = [22,20,9,75,2,8,67,8]\n",
    "selectionSort(a)"
   ]
  },
  {
   "cell_type": "code",
   "execution_count": null,
   "metadata": {},
   "outputs": [],
   "source": []
  }
 ],
 "metadata": {
  "kernelspec": {
   "display_name": "Python 3",
   "language": "python",
   "name": "python3"
  },
  "language_info": {
   "codemirror_mode": {
    "name": "ipython",
    "version": 3
   },
   "file_extension": ".py",
   "mimetype": "text/x-python",
   "name": "python",
   "nbconvert_exporter": "python",
   "pygments_lexer": "ipython3",
   "version": "3.7.3"
  }
 },
 "nbformat": 4,
 "nbformat_minor": 2
}
