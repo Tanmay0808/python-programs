{
 "cells": [
  {
   "cell_type": "code",
   "execution_count": 38,
   "metadata": {},
   "outputs": [],
   "source": [
    "def copyLst(lst, lst1 = [], i = 0):\n",
    "\n",
    "    if len(lst) == 0:\n",
    "\n",
    "        return lst1\n",
    "\n",
    "    else:\n",
    "\n",
    "        if i != len(lst):\n",
    "\n",
    "            lst1.append(lst[i])\n",
    "\n",
    "            copyLst(lst[1:], lst1, i+1)\n",
    "\n",
    "            return lst1\n",
    "\n",
    "        else:\n",
    "\n",
    "            return lst1\n",
    "\n"
   ]
  },
  {
   "cell_type": "code",
   "execution_count": 40,
   "metadata": {},
   "outputs": [
    {
     "ename": "IndexError",
     "evalue": "list index out of range",
     "output_type": "error",
     "traceback": [
      "\u001b[1;31m---------------------------------------------------------------------------\u001b[0m",
      "\u001b[1;31mIndexError\u001b[0m                                Traceback (most recent call last)",
      "\u001b[1;32m<ipython-input-40-59ab1b459c9b>\u001b[0m in \u001b[0;36m<module>\u001b[1;34m\u001b[0m\n\u001b[0;32m      1\u001b[0m \u001b[0mlst\u001b[0m \u001b[1;33m=\u001b[0m \u001b[1;33m[\u001b[0m\u001b[1;36m10\u001b[0m\u001b[1;33m,\u001b[0m \u001b[1;36m20\u001b[0m\u001b[1;33m,\u001b[0m \u001b[1;36m30\u001b[0m\u001b[1;33m]\u001b[0m\u001b[1;33m\u001b[0m\u001b[1;33m\u001b[0m\u001b[0m\n\u001b[0;32m      2\u001b[0m \u001b[1;33m\u001b[0m\u001b[0m\n\u001b[1;32m----> 3\u001b[1;33m \u001b[0mlst1\u001b[0m \u001b[1;33m=\u001b[0m \u001b[0mcopyLst\u001b[0m\u001b[1;33m(\u001b[0m\u001b[0mlst\u001b[0m\u001b[1;33m)\u001b[0m\u001b[1;33m\u001b[0m\u001b[1;33m\u001b[0m\u001b[0m\n\u001b[0m\u001b[0;32m      4\u001b[0m \u001b[1;33m\u001b[0m\u001b[0m\n\u001b[0;32m      5\u001b[0m \u001b[0mprint\u001b[0m\u001b[1;33m(\u001b[0m\u001b[0mlst1\u001b[0m\u001b[1;33m)\u001b[0m\u001b[1;33m\u001b[0m\u001b[1;33m\u001b[0m\u001b[0m\n",
      "\u001b[1;32m<ipython-input-38-8bf265535cde>\u001b[0m in \u001b[0;36mcopyLst\u001b[1;34m(lst, lst1, i)\u001b[0m\n\u001b[0;32m     11\u001b[0m             \u001b[0mlst1\u001b[0m\u001b[1;33m.\u001b[0m\u001b[0mappend\u001b[0m\u001b[1;33m(\u001b[0m\u001b[0mlst\u001b[0m\u001b[1;33m[\u001b[0m\u001b[0mi\u001b[0m\u001b[1;33m]\u001b[0m\u001b[1;33m)\u001b[0m\u001b[1;33m\u001b[0m\u001b[1;33m\u001b[0m\u001b[0m\n\u001b[0;32m     12\u001b[0m \u001b[1;33m\u001b[0m\u001b[0m\n\u001b[1;32m---> 13\u001b[1;33m             \u001b[0mcopyLst\u001b[0m\u001b[1;33m(\u001b[0m\u001b[0mlst\u001b[0m\u001b[1;33m[\u001b[0m\u001b[1;36m1\u001b[0m\u001b[1;33m:\u001b[0m\u001b[1;33m]\u001b[0m\u001b[1;33m,\u001b[0m \u001b[0mlst1\u001b[0m\u001b[1;33m,\u001b[0m \u001b[0mi\u001b[0m\u001b[1;33m+\u001b[0m\u001b[1;36m1\u001b[0m\u001b[1;33m)\u001b[0m\u001b[1;33m\u001b[0m\u001b[1;33m\u001b[0m\u001b[0m\n\u001b[0m\u001b[0;32m     14\u001b[0m \u001b[1;33m\u001b[0m\u001b[0m\n\u001b[0;32m     15\u001b[0m             \u001b[1;32mreturn\u001b[0m \u001b[0mlst1\u001b[0m\u001b[1;33m\u001b[0m\u001b[1;33m\u001b[0m\u001b[0m\n",
      "\u001b[1;32m<ipython-input-38-8bf265535cde>\u001b[0m in \u001b[0;36mcopyLst\u001b[1;34m(lst, lst1, i)\u001b[0m\n\u001b[0;32m     11\u001b[0m             \u001b[0mlst1\u001b[0m\u001b[1;33m.\u001b[0m\u001b[0mappend\u001b[0m\u001b[1;33m(\u001b[0m\u001b[0mlst\u001b[0m\u001b[1;33m[\u001b[0m\u001b[0mi\u001b[0m\u001b[1;33m]\u001b[0m\u001b[1;33m)\u001b[0m\u001b[1;33m\u001b[0m\u001b[1;33m\u001b[0m\u001b[0m\n\u001b[0;32m     12\u001b[0m \u001b[1;33m\u001b[0m\u001b[0m\n\u001b[1;32m---> 13\u001b[1;33m             \u001b[0mcopyLst\u001b[0m\u001b[1;33m(\u001b[0m\u001b[0mlst\u001b[0m\u001b[1;33m[\u001b[0m\u001b[1;36m1\u001b[0m\u001b[1;33m:\u001b[0m\u001b[1;33m]\u001b[0m\u001b[1;33m,\u001b[0m \u001b[0mlst1\u001b[0m\u001b[1;33m,\u001b[0m \u001b[0mi\u001b[0m\u001b[1;33m+\u001b[0m\u001b[1;36m1\u001b[0m\u001b[1;33m)\u001b[0m\u001b[1;33m\u001b[0m\u001b[1;33m\u001b[0m\u001b[0m\n\u001b[0m\u001b[0;32m     14\u001b[0m \u001b[1;33m\u001b[0m\u001b[0m\n\u001b[0;32m     15\u001b[0m             \u001b[1;32mreturn\u001b[0m \u001b[0mlst1\u001b[0m\u001b[1;33m\u001b[0m\u001b[1;33m\u001b[0m\u001b[0m\n",
      "\u001b[1;32m<ipython-input-38-8bf265535cde>\u001b[0m in \u001b[0;36mcopyLst\u001b[1;34m(lst, lst1, i)\u001b[0m\n\u001b[0;32m      9\u001b[0m         \u001b[1;32mif\u001b[0m \u001b[0mi\u001b[0m \u001b[1;33m!=\u001b[0m \u001b[0mlen\u001b[0m\u001b[1;33m(\u001b[0m\u001b[0mlst\u001b[0m\u001b[1;33m)\u001b[0m\u001b[1;33m:\u001b[0m\u001b[1;33m\u001b[0m\u001b[1;33m\u001b[0m\u001b[0m\n\u001b[0;32m     10\u001b[0m \u001b[1;33m\u001b[0m\u001b[0m\n\u001b[1;32m---> 11\u001b[1;33m             \u001b[0mlst1\u001b[0m\u001b[1;33m.\u001b[0m\u001b[0mappend\u001b[0m\u001b[1;33m(\u001b[0m\u001b[0mlst\u001b[0m\u001b[1;33m[\u001b[0m\u001b[0mi\u001b[0m\u001b[1;33m]\u001b[0m\u001b[1;33m)\u001b[0m\u001b[1;33m\u001b[0m\u001b[1;33m\u001b[0m\u001b[0m\n\u001b[0m\u001b[0;32m     12\u001b[0m \u001b[1;33m\u001b[0m\u001b[0m\n\u001b[0;32m     13\u001b[0m             \u001b[0mcopyLst\u001b[0m\u001b[1;33m(\u001b[0m\u001b[0mlst\u001b[0m\u001b[1;33m[\u001b[0m\u001b[1;36m1\u001b[0m\u001b[1;33m:\u001b[0m\u001b[1;33m]\u001b[0m\u001b[1;33m,\u001b[0m \u001b[0mlst1\u001b[0m\u001b[1;33m,\u001b[0m \u001b[0mi\u001b[0m\u001b[1;33m+\u001b[0m\u001b[1;36m1\u001b[0m\u001b[1;33m)\u001b[0m\u001b[1;33m\u001b[0m\u001b[1;33m\u001b[0m\u001b[0m\n",
      "\u001b[1;31mIndexError\u001b[0m: list index out of range"
     ]
    }
   ],
   "source": [
    "lst = [10, 20, 30]\n",
    "\n",
    "lst1 = copyLst(lst)\n",
    "\n",
    "print(lst1)"
   ]
  },
  {
   "cell_type": "code",
   "execution_count": 41,
   "metadata": {},
   "outputs": [
    {
     "name": "stdout",
     "output_type": "stream",
     "text": [
      "75.0\n",
      "Function Percentage Complete\n",
      "ZeroDivisionError\n",
      "Function Percentage Complete\n",
      "TypeError\n",
      "Function Percentage Complete\n",
      "50.0\n",
      "Function Percentage Complete\n"
     ]
    }
   ],
   "source": [
    "def percentage(marks, total):\n",
    "    try:\n",
    "        percent = (marks / total) * 100\n",
    "    except ValueError:\n",
    "        print('ValueError')\n",
    "    except TypeError:\n",
    "        print('TypeError')\n",
    "    except ZeroDivisionError:\n",
    "        print('ZeroDivisionError')\n",
    "    except:\n",
    "        print('Any Other Error')\n",
    "    else:\n",
    "        print(percent)\n",
    "    finally:\n",
    "        print(\"Function Percentage Complete\")\n",
    "        \n",
    "percentage(150, 200)\n",
    "percentage(150, 0)\n",
    "percentage('150', '200')\n",
    "percentage(100, 200.0)"
   ]
  },
  {
   "cell_type": "code",
   "execution_count": 42,
   "metadata": {},
   "outputs": [
    {
     "name": "stdout",
     "output_type": "stream",
     "text": [
      "A:  40\n",
      "B:  30\n",
      "A:  40\n"
     ]
    },
    {
     "ename": "NameError",
     "evalue": "name 'b' is not defined",
     "output_type": "error",
     "traceback": [
      "\u001b[1;31m---------------------------------------------------------------------------\u001b[0m",
      "\u001b[1;31mNameError\u001b[0m                                 Traceback (most recent call last)",
      "\u001b[1;32m<ipython-input-42-8745bc894007>\u001b[0m in \u001b[0;36m<module>\u001b[1;34m\u001b[0m\n\u001b[0;32m     11\u001b[0m \u001b[1;33m\u001b[0m\u001b[0m\n\u001b[0;32m     12\u001b[0m \u001b[0mprint\u001b[0m\u001b[1;33m(\u001b[0m\u001b[1;34m\"A: \"\u001b[0m\u001b[1;33m,\u001b[0m \u001b[0ma\u001b[0m\u001b[1;33m)\u001b[0m\u001b[1;33m\u001b[0m\u001b[1;33m\u001b[0m\u001b[0m\n\u001b[1;32m---> 13\u001b[1;33m \u001b[0mprint\u001b[0m\u001b[1;33m(\u001b[0m\u001b[1;34m\"B: \"\u001b[0m\u001b[1;33m,\u001b[0m \u001b[0mb\u001b[0m\u001b[1;33m)\u001b[0m\u001b[1;33m\u001b[0m\u001b[1;33m\u001b[0m\u001b[0m\n\u001b[0m",
      "\u001b[1;31mNameError\u001b[0m: name 'b' is not defined"
     ]
    }
   ],
   "source": [
    "a = 20\n",
    "\n",
    "def test():\n",
    "    global a\n",
    "    b = 30\n",
    "    a = 40\n",
    "    print(\"A: \", a)\n",
    "    print(\"B: \", b)\n",
    "    \n",
    "test()\n",
    "\n",
    "print(\"A: \", a)\n",
    "print(\"B: \", b)"
   ]
  },
  {
   "cell_type": "code",
   "execution_count": 43,
   "metadata": {},
   "outputs": [
    {
     "ename": "UnboundLocalError",
     "evalue": "local variable 'z' referenced before assignment",
     "output_type": "error",
     "traceback": [
      "\u001b[1;31m---------------------------------------------------------------------------\u001b[0m",
      "\u001b[1;31mUnboundLocalError\u001b[0m                         Traceback (most recent call last)",
      "\u001b[1;32m<ipython-input-43-0838573c9fb7>\u001b[0m in \u001b[0;36m<module>\u001b[1;34m\u001b[0m\n\u001b[0;32m      5\u001b[0m     \u001b[0mprint\u001b[0m\u001b[1;33m(\u001b[0m\u001b[0mz\u001b[0m\u001b[1;33m)\u001b[0m\u001b[1;33m\u001b[0m\u001b[1;33m\u001b[0m\u001b[0m\n\u001b[0;32m      6\u001b[0m \u001b[1;33m\u001b[0m\u001b[0m\n\u001b[1;32m----> 7\u001b[1;33m \u001b[0mdemo\u001b[0m\u001b[1;33m(\u001b[0m\u001b[1;33m)\u001b[0m\u001b[1;33m\u001b[0m\u001b[1;33m\u001b[0m\u001b[0m\n\u001b[0m\u001b[0;32m      8\u001b[0m \u001b[0mprint\u001b[0m\u001b[1;33m(\u001b[0m\u001b[0mz\u001b[0m\u001b[1;33m)\u001b[0m\u001b[1;33m\u001b[0m\u001b[1;33m\u001b[0m\u001b[0m\n",
      "\u001b[1;32m<ipython-input-43-0838573c9fb7>\u001b[0m in \u001b[0;36mdemo\u001b[1;34m()\u001b[0m\n\u001b[0;32m      2\u001b[0m \u001b[1;33m\u001b[0m\u001b[0m\n\u001b[0;32m      3\u001b[0m \u001b[1;32mdef\u001b[0m \u001b[0mdemo\u001b[0m\u001b[1;33m(\u001b[0m\u001b[1;33m)\u001b[0m\u001b[1;33m:\u001b[0m\u001b[1;33m\u001b[0m\u001b[1;33m\u001b[0m\u001b[0m\n\u001b[1;32m----> 4\u001b[1;33m     \u001b[0mz\u001b[0m \u001b[1;33m=\u001b[0m \u001b[0mz\u001b[0m\u001b[1;33m+\u001b[0m\u001b[1;36m1\u001b[0m\u001b[1;33m\u001b[0m\u001b[1;33m\u001b[0m\u001b[0m\n\u001b[0m\u001b[0;32m      5\u001b[0m     \u001b[0mprint\u001b[0m\u001b[1;33m(\u001b[0m\u001b[0mz\u001b[0m\u001b[1;33m)\u001b[0m\u001b[1;33m\u001b[0m\u001b[1;33m\u001b[0m\u001b[0m\n\u001b[0;32m      6\u001b[0m \u001b[1;33m\u001b[0m\u001b[0m\n",
      "\u001b[1;31mUnboundLocalError\u001b[0m: local variable 'z' referenced before assignment"
     ]
    }
   ],
   "source": [
    "z = 2\n",
    " \n",
    "def demo():\n",
    "    z = z+1\n",
    "    print(z)\n",
    "    \n",
    "demo()\n",
    "print(z)"
   ]
  },
  {
   "cell_type": "code",
   "execution_count": 44,
   "metadata": {},
   "outputs": [
    {
     "name": "stdout",
     "output_type": "stream",
     "text": [
      "in f a =  5\n",
      "in g a =  10\n",
      "in h a =  20\n",
      "in f a =  20\n"
     ]
    }
   ],
   "source": [
    "a = 4\n",
    "\n",
    "def f():\n",
    "    a = 5\n",
    "    print(\"in f a = \", a)\n",
    "    def g():\n",
    "        nonlocal a\n",
    "        a = 10\n",
    "        print(\"in g a = \", a)\n",
    "        def h():\n",
    "            nonlocal a\n",
    "            a = 20\n",
    "            print(\"in h a = \", a)\n",
    "        h()\n",
    "    g()\n",
    "    print(\"in f a = \", a)\n",
    "f()"
   ]
  },
  {
   "cell_type": "code",
   "execution_count": 45,
   "metadata": {
    "scrolled": true
   },
   "outputs": [
    {
     "name": "stdout",
     "output_type": "stream",
     "text": [
      "1 \n",
      "1 2 \n",
      "1 2 3 \n",
      "1 2 3 4 \n"
     ]
    }
   ],
   "source": [
    "def pattern(number):\n",
    "    '''\n",
    "    Objective: To print a pattern of numbers\n",
    "    Input Parameter: number - a number\n",
    "    Return Values: A pattern will be printed\n",
    "    '''\n",
    "    for i in range(1, (number+1)):\n",
    "        for j in range(1, i+1):\n",
    "            print(j, end = \" \")\n",
    "        print('')\n",
    "        \n",
    "pattern(4)"
   ]
  },
  {
   "cell_type": "code",
   "execution_count": 46,
   "metadata": {},
   "outputs": [],
   "source": [
    "def cumulativeList(lst, mlst = [], i = 0):\n",
    "    '''\n",
    "    Objective: To create a cumulative list\n",
    "    Input Parameters: lst - A list\n",
    "    Return Values: A cumulative list\n",
    "    '''\n",
    "    if i == len(lst):\n",
    "        return mlst\n",
    "    if i == 0:\n",
    "        mlst.append(lst[0])\n",
    "        return cumulativeList(lst, mlst, i+1)\n",
    "    else:\n",
    "        mlst.append(mlst[i-1]+lst[i])\n",
    "        return cumulativeList(lst, mlst, i+1)\n",
    "        \n",
    "        "
   ]
  },
  {
   "cell_type": "code",
   "execution_count": 47,
   "metadata": {},
   "outputs": [
    {
     "data": {
      "text/plain": [
       "[3, 9, 13, 21, 26]"
      ]
     },
     "execution_count": 47,
     "metadata": {},
     "output_type": "execute_result"
    }
   ],
   "source": [
    "lst = [3,6,4,8,5]\n",
    "cumulativeList(lst)"
   ]
  },
  {
   "cell_type": "code",
   "execution_count": 48,
   "metadata": {},
   "outputs": [
    {
     "name": "stdout",
     "output_type": "stream",
     "text": [
      "*\n",
      "**\n",
      "***\n",
      "****\n"
     ]
    }
   ],
   "source": [
    "def rightTriangle(n):\n",
    "    for i in range(1, n+1):\n",
    "        print('*'*i)\n",
    "\n",
    "rightTriangle(4)"
   ]
  },
  {
   "cell_type": "code",
   "execution_count": 49,
   "metadata": {},
   "outputs": [
    {
     "name": "stdout",
     "output_type": "stream",
     "text": [
      "*********\n",
      " *******\n",
      "  *****\n",
      "   ***\n",
      "    *\n"
     ]
    }
   ],
   "source": [
    "def invertedTriangle(n):\n",
    "    nSpaces = 0\n",
    "    nStars = 2*n - 1\n",
    "    for i in range(1, n+1):\n",
    "        print(' ' * nSpaces + '*' * nStars)\n",
    "        nSpaces += 1\n",
    "        nStars -= 2\n",
    "        \n",
    "invertedTriangle(5)"
   ]
  },
  {
   "cell_type": "code",
   "execution_count": 50,
   "metadata": {},
   "outputs": [
    {
     "name": "stdout",
     "output_type": "stream",
     "text": [
      "       1 \n",
      "     2 1 2 \n",
      "   3 2 1 2 3 \n",
      " 4 3 2 1 2 3 4 \n"
     ]
    }
   ],
   "source": [
    "def pattern(num):\n",
    "    nSpaces = 2*num - 1\n",
    "    for i in range(1, num + 1):\n",
    "        print(' '*nSpaces, end = '')\n",
    "        for j in range(i, 0, -1):\n",
    "            print(j, end=\" \")\n",
    "        for k in range(2, i+1):\n",
    "            print(k, end=\" \")\n",
    "        nSpaces -= 2\n",
    "        print()\n",
    "        \n",
    "pattern(4)"
   ]
  },
  {
   "cell_type": "code",
   "execution_count": 51,
   "metadata": {},
   "outputs": [
    {
     "name": "stdout",
     "output_type": "stream",
     "text": [
      "In test: globalVar:  30\n",
      "In test: localvar:  20\n",
      "30\n"
     ]
    }
   ],
   "source": [
    "globalVar = 10\n",
    "def test():\n",
    "    localVar = 20\n",
    "    global globalVar\n",
    "    globalVar = 30\n",
    "    print('In test: globalVar: ', globalVar)\n",
    "    print('In test: localvar: ', localVar)\n",
    "test()\n",
    "print(globalVar)"
   ]
  },
  {
   "cell_type": "code",
   "execution_count": 52,
   "metadata": {},
   "outputs": [
    {
     "name": "stdout",
     "output_type": "stream",
     "text": [
      "Inside function test2:  8\n",
      "Outside function test2:  8\n"
     ]
    }
   ],
   "source": [
    "def test1():\n",
    "    test1.a = 10\n",
    "    def test2():\n",
    "        test1.a = 8\n",
    "        print(\"Inside function test2: \", test1.a)\n",
    "    test2()\n",
    "    print('Outside function test2: ', test1.a)\n",
    "test1()"
   ]
  },
  {
   "cell_type": "code",
   "execution_count": 53,
   "metadata": {},
   "outputs": [
    {
     "name": "stdout",
     "output_type": "stream",
     "text": [
      "inside g:  10\n",
      "inside h:  20\n",
      "inside f:  20\n"
     ]
    }
   ],
   "source": [
    "a = 4\n",
    "def f():\n",
    "    a = 5\n",
    "    def g():\n",
    "        nonlocal a\n",
    "        a = 10\n",
    "        print(\"inside g: \", a)\n",
    "        def h():\n",
    "            nonlocal a\n",
    "            a = 20\n",
    "            print(\"inside h: \", a)\n",
    "        h()\n",
    "    g()\n",
    "    print('inside f: ', a)\n",
    "f()"
   ]
  },
  {
   "cell_type": "code",
   "execution_count": 54,
   "metadata": {},
   "outputs": [
    {
     "name": "stdout",
     "output_type": "stream",
     "text": [
      "2\n",
      "3\n"
     ]
    }
   ],
   "source": [
    "x = 2\n",
    "def test():\n",
    "    global x\n",
    "    x = x + 1\n",
    "    print(x)\n",
    "print(x)\n",
    "test()"
   ]
  },
  {
   "cell_type": "code",
   "execution_count": 55,
   "metadata": {},
   "outputs": [
    {
     "ename": "ZeroDivisionError",
     "evalue": "division by zero",
     "output_type": "error",
     "traceback": [
      "\u001b[1;31m---------------------------------------------------------------------------\u001b[0m",
      "\u001b[1;31mZeroDivisionError\u001b[0m                         Traceback (most recent call last)",
      "\u001b[1;32m<ipython-input-55-95881eb9d089>\u001b[0m in \u001b[0;36m<module>\u001b[1;34m\u001b[0m\n\u001b[1;32m----> 1\u001b[1;33m \u001b[1;33m(\u001b[0m\u001b[1;33m(\u001b[0m\u001b[1;36m1\u001b[0m\u001b[1;33m<\u001b[0m\u001b[1;36m5\u001b[0m\u001b[1;33m)\u001b[0m\u001b[1;32mand\u001b[0m \u001b[1;33m(\u001b[0m\u001b[1;36m9\u001b[0m\u001b[1;33m/\u001b[0m\u001b[1;36m0\u001b[0m\u001b[1;33m)\u001b[0m\u001b[1;33m)\u001b[0m\u001b[1;33m\u001b[0m\u001b[1;33m\u001b[0m\u001b[0m\n\u001b[0m",
      "\u001b[1;31mZeroDivisionError\u001b[0m: division by zero"
     ]
    }
   ],
   "source": [
    "((1<5)and (9/0)) "
   ]
  },
  {
   "cell_type": "code",
   "execution_count": 56,
   "metadata": {},
   "outputs": [
    {
     "ename": "ZeroDivisionError",
     "evalue": "division by zero",
     "output_type": "error",
     "traceback": [
      "\u001b[1;31m---------------------------------------------------------------------------\u001b[0m",
      "\u001b[1;31mZeroDivisionError\u001b[0m                         Traceback (most recent call last)",
      "\u001b[1;32m<ipython-input-56-289021db0d3c>\u001b[0m in \u001b[0;36m<module>\u001b[1;34m\u001b[0m\n\u001b[1;32m----> 1\u001b[1;33m \u001b[1;33m(\u001b[0m\u001b[1;33m(\u001b[0m\u001b[1;36m11\u001b[0m\u001b[1;33m<\u001b[0m\u001b[1;36m5\u001b[0m\u001b[1;33m)\u001b[0m \u001b[1;32mor\u001b[0m \u001b[1;33m(\u001b[0m\u001b[1;36m9\u001b[0m\u001b[1;33m/\u001b[0m\u001b[1;36m0\u001b[0m\u001b[1;33m)\u001b[0m\u001b[1;33m)\u001b[0m\u001b[1;33m\u001b[0m\u001b[1;33m\u001b[0m\u001b[0m\n\u001b[0m",
      "\u001b[1;31mZeroDivisionError\u001b[0m: division by zero"
     ]
    }
   ],
   "source": [
    "((11<5) or (9/0)) "
   ]
  },
  {
   "cell_type": "code",
   "execution_count": 59,
   "metadata": {},
   "outputs": [],
   "source": [
    "def buildInvDict(dict1):\n",
    "    '''\n",
    "    Objective: To Construct inverted dictionary\n",
    "    Input Parameter: dict1 - dictionary\n",
    "    Return Values: invDict - dictionary\n",
    "    '''\n",
    "    invDict = {} #empty dictionary\n",
    "    \n",
    "    for key, value in dict1.items(): #iterating through the each key, value pair of given dictionary\n",
    "        if value in invDict:     #if value of given dicionary is already included in invDict as a key\n",
    "            invDict[value].append(key)\n",
    "        else:#if value of given dictionary is not already in invDict then we are adding value at key of dict1 as a key in invDIct\n",
    "            invDict[value] = [key]\n",
    "            \n",
    "    return invDict"
   ]
  },
  {
   "cell_type": "code",
   "execution_count": 58,
   "metadata": {},
   "outputs": [
    {
     "name": "stdout",
     "output_type": "stream",
     "text": [
      "Enter word meaning dictionary: \n"
     ]
    },
    {
     "ename": "SyntaxError",
     "evalue": "unexpected EOF while parsing (<string>, line 0)",
     "output_type": "error",
     "traceback": [
      "Traceback \u001b[1;36m(most recent call last)\u001b[0m:\n",
      "  File \u001b[0;32m\"C:\\ProgramData\\Anaconda3\\lib\\site-packages\\IPython\\core\\interactiveshell.py\"\u001b[0m, line \u001b[0;32m3325\u001b[0m, in \u001b[0;35mrun_code\u001b[0m\n    exec(code_obj, self.user_global_ns, self.user_ns)\n",
      "  File \u001b[0;32m\"<ipython-input-58-98f88726b352>\"\u001b[0m, line \u001b[0;32m12\u001b[0m, in \u001b[0;35m<module>\u001b[0m\n    main()\n",
      "\u001b[1;36m  File \u001b[1;32m\"<ipython-input-58-98f88726b352>\"\u001b[1;36m, line \u001b[1;32m7\u001b[1;36m, in \u001b[1;35mmain\u001b[1;36m\u001b[0m\n\u001b[1;33m    wordMeaning = eval(input('Enter word meaning dictionary: '))\u001b[0m\n",
      "\u001b[1;36m  File \u001b[1;32m\"<string>\"\u001b[1;36m, line \u001b[1;32munknown\u001b[0m\n\u001b[1;33m    \u001b[0m\n\u001b[1;37m    ^\u001b[0m\n\u001b[1;31mSyntaxError\u001b[0m\u001b[1;31m:\u001b[0m unexpected EOF while parsing\n"
     ]
    }
   ],
   "source": [
    "def main():\n",
    "    '''\n",
    "    Objective: To find inverted dictionary\n",
    "    Input Paameters: none\n",
    "    Return Values: None\n",
    "    '''\n",
    "    wordMeaning = eval(input('Enter word meaning dictionary: '))\n",
    "    meaningWord = buildInvDict(wordMeaning)\n",
    "    print('Inverted Dictionary: \\n', meaningWord)\n",
    "    \n",
    "if __name__ == '__main__':\n",
    "    main()"
   ]
  },
  {
   "cell_type": "code",
   "execution_count": 22,
   "metadata": {},
   "outputs": [
    {
     "data": {
      "text/plain": [
       "5040"
      ]
     },
     "execution_count": 22,
     "metadata": {},
     "output_type": "execute_result"
    }
   ],
   "source": [
    "def factorial(number):\n",
    "    '''\n",
    "    Objective: To calculate the factorial of given number\n",
    "    Input Parameters: number - numeric value\n",
    "    Return Values; number - factorial\n",
    "    '''\n",
    "    assert number >= 0 \n",
    "    if number == 0 or number == 1:\n",
    "        return 1\n",
    "    else:\n",
    "        return number * factorial(number - 1)\n",
    "    \n",
    "factorial(7)"
   ]
  },
  {
   "cell_type": "code",
   "execution_count": 30,
   "metadata": {},
   "outputs": [
    {
     "data": {
      "text/plain": [
       "13"
      ]
     },
     "execution_count": 30,
     "metadata": {},
     "output_type": "execute_result"
    }
   ],
   "source": [
    "def fibonacci(n):\n",
    "    if n == 1:\n",
    "        return 0\n",
    "    elif n == 2:\n",
    "        return 1\n",
    "    else:\n",
    "        return fibonacci(n-1) + fibonacci(n-2)\n",
    "\n",
    "fibonacci(8)"
   ]
  },
  {
   "cell_type": "code",
   "execution_count": 34,
   "metadata": {},
   "outputs": [
    {
     "data": {
      "text/plain": [
       "7"
      ]
     },
     "execution_count": 34,
     "metadata": {},
     "output_type": "execute_result"
    }
   ],
   "source": [
    "def lenOfStr(string):\n",
    "    if string == '':\n",
    "        return 0\n",
    "    else:\n",
    "        return 1 + lenOfStr(string[1:])\n",
    "    \n",
    "lenOfStr(\"Shubham\")"
   ]
  },
  {
   "cell_type": "code",
   "execution_count": 37,
   "metadata": {},
   "outputs": [
    {
     "data": {
      "text/plain": [
       "'mahbuhS'"
      ]
     },
     "execution_count": 37,
     "metadata": {},
     "output_type": "execute_result"
    }
   ],
   "source": [
    "def revStr(string):\n",
    "    if string == '':\n",
    "        return string\n",
    "    else:\n",
    "        return string[-1] + revStr(string[:-1])\n",
    "    \n",
    "revStr(\"Shubham\")"
   ]
  },
  {
   "cell_type": "code",
   "execution_count": 42,
   "metadata": {},
   "outputs": [
    {
     "data": {
      "text/plain": [
       "'Palindrome'"
      ]
     },
     "execution_count": 42,
     "metadata": {},
     "output_type": "execute_result"
    }
   ],
   "source": [
    "def palindrome(string):\n",
    "    if string == revStr(string):\n",
    "        return \"Palindrome\"\n",
    "    else:\n",
    "        return \"Not Palindrome\"\n",
    "\n",
    "palindrome('naman')"
   ]
  },
  {
   "cell_type": "code",
   "execution_count": 58,
   "metadata": {},
   "outputs": [
    {
     "data": {
      "text/plain": [
       "[1, 5, 1, 1, 2, 5, 6, 5, 6]"
      ]
     },
     "execution_count": 58,
     "metadata": {},
     "output_type": "execute_result"
    }
   ],
   "source": [
    "def flattenList(lst, mlst = [], i = 0):\n",
    "    if len(lst) == i:\n",
    "        return\n",
    "    else:\n",
    "        if type(lst[i]) == list:\n",
    "            flattenList(lst[i], mlst, 0)\n",
    "        else:\n",
    "            mlst.append(lst[i])\n",
    "        flattenList(lst, mlst, i+1)\n",
    "    return mlst\n",
    "    \n",
    "a = [[1,[[[5],1,[],[1,2,[5,6]]]], [[[5,],[[[[]]]], 6]]]]\n",
    "flattenList(a)"
   ]
  },
  {
   "cell_type": "code",
   "execution_count": 61,
   "metadata": {},
   "outputs": [
    {
     "data": {
      "text/plain": [
       "[1, 2, 4, [5, 6, 7], 7, [8, 9]]"
      ]
     },
     "execution_count": 61,
     "metadata": {},
     "output_type": "execute_result"
    }
   ],
   "source": [
    "def deepCopy(lst, newLst = [], i = 0):\n",
    "    if len(lst) == i:\n",
    "        return newLst\n",
    "    else:\n",
    "        if type(lst[i]) == list:\n",
    "            a = deepCopy(lst[i], newLst = [])\n",
    "            newLst.append(a)\n",
    "        else:\n",
    "            newLst.append(lst[i])\n",
    "        return deepCopy(lst, newLst, i+1)\n",
    "    \n",
    "a = [1,2,4,[5,6,7],7,[8,9]]\n",
    "b = deepCopy(a)\n",
    "b"
   ]
  },
  {
   "cell_type": "code",
   "execution_count": 65,
   "metadata": {},
   "outputs": [
    {
     "name": "stdout",
     "output_type": "stream",
     "text": [
      "1796055844680 1796056293128\n"
     ]
    }
   ],
   "source": [
    "print(id(a[3]),id(b[3]))"
   ]
  },
  {
   "cell_type": "code",
   "execution_count": 69,
   "metadata": {},
   "outputs": [
    {
     "name": "stdout",
     "output_type": "stream",
     "text": [
      "Move a disk from  A  to  C\n",
      "Move a disk from  A  to  B\n",
      "Move a disk from  C  to  B\n",
      "Move a disk from  A  to  C\n",
      "Move a disk from  B  to  A\n",
      "Move a disk from  B  to  C\n",
      "Move a disk from  A  to  C\n"
     ]
    }
   ],
   "source": [
    "def hanoi(n, source, spare, target):\n",
    "    if n == 1:\n",
    "        print(\"Move a disk from \", source, \" to \", target)\n",
    "    elif n == 0:\n",
    "        return \n",
    "    else:\n",
    "        hanoi(n-1, source, target, spare)\n",
    "        print(\"Move a disk from \", source, \" to \", target)\n",
    "        hanoi(n-1, spare, source, target)\n",
    "\n",
    "hanoi(3, 'A', 'B', 'C')"
   ]
  },
  {
   "cell_type": "code",
   "execution_count": 94,
   "metadata": {},
   "outputs": [],
   "source": [
    "#Selection Sort\n",
    "\n",
    "def minIndex(lst, first, last, minInd = 0):\n",
    "    if first <= last:\n",
    "        if lst[first] < lst[minInd]:\n",
    "            minInd = first\n",
    "        return minIndex(lst, first+1, last, minInd)\n",
    "    else:\n",
    "        return minInd\n",
    "    \n",
    "def selectionSort(myList, i = 0):\n",
    "    if len(myList) == i:\n",
    "        return myList\n",
    "    else:\n",
    "        minInd = minIndex(myList, i, len(myList)-1, i)\n",
    "        myList[i], myList[minInd] = myList[minInd], myList[i]\n",
    "        return selectionSort(myList, i + 1)"
   ]
  },
  {
   "cell_type": "code",
   "execution_count": 95,
   "metadata": {},
   "outputs": [
    {
     "data": {
      "text/plain": [
       "[2, 8, 8, 9, 20, 22, 67, 75]"
      ]
     },
     "execution_count": 95,
     "metadata": {},
     "output_type": "execute_result"
    }
   ],
   "source": [
    "a = [22,20,9,75,2,8,67,8]\n",
    "selectionSort(a)"
   ]
  },
  {
   "cell_type": "code",
   "execution_count": 37,
   "metadata": {},
   "outputs": [
    {
     "name": "stdout",
     "output_type": "stream",
     "text": [
      "Deleted!!\n"
     ]
    }
   ],
   "source": [
    "class Person:\n",
    "    ''' The class Person describes a person '''\n",
    "    count = 0\n",
    "    def __init__(self, name, DOB, address):\n",
    "        '''\n",
    "        Objective: To initialize object of class Person\n",
    "        Input Parameters:\n",
    "                        self(implicit parameter) - object of type person\n",
    "                        name - string\n",
    "                        DOB - string \n",
    "                        address - string\n",
    "        Return Value: none\n",
    "        '''\n",
    "        self.name = name\n",
    "        self.DOB = DOB\n",
    "        self.address = address\n",
    "        Person.count += 1\n",
    "        \n",
    "    def getName(self):\n",
    "        return self.name\n",
    "    \n",
    "    def getDOB(self):\n",
    "        return self.DOB\n",
    "    \n",
    "    def getAddress(self):\n",
    "        return self.address\n",
    "    \n",
    "    def setName(self, name):\n",
    "        self.name = name\n",
    "        \n",
    "    def setDOB(self, DOB):\n",
    "        self.DOB = DOB\n",
    "        \n",
    "    def setAddress(self, address):\n",
    "        self.address = address\n",
    "        \n",
    "    def getCount(self):\n",
    "        return Person.count\n",
    "    \n",
    "    def __str__(self):\n",
    "        '''\n",
    "        Objective: To return string representation of object of type Person\n",
    "        Input Parameters: self(implicit parameter)\n",
    "        Return Values: string\n",
    "        '''\n",
    "        return 'Name: ' + self.name + '\\nDOB: ' + self.DOB + '\\nAddress: ' + self.address\n",
    "    \n",
    "    def __del__(self):\n",
    "        '''\n",
    "        Objective: To be invoked on deletion of an instance of the class Person\n",
    "        Input Parameter: self (implicit parameter) - object of type Person\n",
    "        Return Value: None\n",
    "        '''\n",
    "        print('Deleted!!')\n",
    "        Person.count -= 1\n",
    "    \n",
    "p1 = Person('Shubham', '19-12-1998', '213, Kalkaji, New Delhi')\n",
    "p2 = Person(\"Sanju\", '22-10-1999', '213, South Ex., New Delhi')"
   ]
  },
  {
   "cell_type": "code",
   "execution_count": 32,
   "metadata": {},
   "outputs": [
    {
     "name": "stdout",
     "output_type": "stream",
     "text": [
      "Name: Shubham\n",
      "DOB: 19-12-1998\n",
      "Address: 213, Kalkaji, New Delhi\n"
     ]
    }
   ],
   "source": [
    "print(p1.__str__())"
   ]
  },
  {
   "cell_type": "code",
   "execution_count": 33,
   "metadata": {},
   "outputs": [],
   "source": [
    "p1.setDOB('19-11-1998')"
   ]
  },
  {
   "cell_type": "code",
   "execution_count": 35,
   "metadata": {},
   "outputs": [
    {
     "data": {
      "text/plain": [
       "<__main__.Person at 0x1fbd9f00c18>"
      ]
     },
     "execution_count": 35,
     "metadata": {},
     "output_type": "execute_result"
    }
   ],
   "source": []
  },
  {
   "cell_type": "code",
   "execution_count": 72,
   "metadata": {},
   "outputs": [
    {
     "name": "stdout",
     "output_type": "stream",
     "text": [
      "omputerc\n"
     ]
    }
   ],
   "source": [
    "subject = 'computer'\n",
    "subject = list(subject)\n",
    "ch = subject[0]\n",
    "for i in range(0, len(subject)-1):\n",
    "    subject[i] = subject[i+1]\n",
    "subject[len(subject)-1] = ch\n",
    "print(\"\".join(subject))"
   ]
  },
  {
   "cell_type": "code",
   "execution_count": 89,
   "metadata": {},
   "outputs": [
    {
     "name": "stdout",
     "output_type": "stream",
     "text": [
      "We are the knights who say, \"Ni1!\"\n"
     ]
    }
   ],
   "source": [
    "if True:\n",
    "    print('We are the knights who say, \"Ni1!\"')\n",
    "else:\n",
    "    print(\"Stop it ! No more of this\")"
   ]
  },
  {
   "cell_type": "code",
   "execution_count": 115,
   "metadata": {},
   "outputs": [
    {
     "data": {
      "text/plain": [
       "False"
      ]
     },
     "execution_count": 115,
     "metadata": {},
     "output_type": "execute_result"
    }
   ],
   "source": [
    "def checkArmstrong(num):\n",
    "    numStr = str(num)\n",
    "    numList = list(numStr)\n",
    "        \n",
    "    sumCubes = 0\n",
    "    for x in numList:\n",
    "        sumCubes += int(x)**3\n",
    "        \n",
    "    if num == sumCubes:\n",
    "        return True\n",
    "    else:\n",
    "        return False\n",
    "\n",
    "checkArmstrong(121)"
   ]
  },
  {
   "cell_type": "code",
   "execution_count": 22,
   "metadata": {},
   "outputs": [
    {
     "data": {
      "text/plain": [
       "[1, 2, 5, 6, 8, 9, 24, 56, 78, 80]"
      ]
     },
     "execution_count": 22,
     "metadata": {},
     "output_type": "execute_result"
    }
   ],
   "source": [
    "#insert element in sorted list \n",
    "def insertEle(ele, myList, i = 0):\n",
    "    if len(myList) != i:\n",
    "        if ele > myList[i]:\n",
    "            return insertEle(ele, myList, i+1)\n",
    "        else:\n",
    "            myList.insert(i, ele)\n",
    "            return myList\n",
    "    else:\n",
    "        myList.insert(i, ele)\n",
    "        return myList\n",
    "\n",
    "a = [1,2,5,6,8,9,24,56,78] \n",
    "insertEle(80, a)"
   ]
  },
  {
   "cell_type": "code",
   "execution_count": 30,
   "metadata": {},
   "outputs": [
    {
     "data": {
      "text/plain": [
       "15"
      ]
     },
     "execution_count": 30,
     "metadata": {},
     "output_type": "execute_result"
    }
   ],
   "source": [
    "#add the elements of a list\n",
    "def addList(myList, sum = 0, i = 0):\n",
    "    if len(myList) == i:\n",
    "        return sum\n",
    "    else:\n",
    "        sum += myList[i]\n",
    "        return addList(myList, sum, i+1)\n",
    "    \n",
    "a = [1,2,3,4,5]\n",
    "addList(a)"
   ]
  },
  {
   "cell_type": "code",
   "execution_count": 9,
   "metadata": {},
   "outputs": [
    {
     "data": {
      "text/plain": [
       "[-433, -4, -2, 1, 1, 9, 12, 21, 43, 87]"
      ]
     },
     "execution_count": 9,
     "metadata": {},
     "output_type": "execute_result"
    }
   ],
   "source": [
    "def bubble(myList, index, end):\n",
    "    if index < end-1:\n",
    "        if myList[index] > myList[index + 1]:\n",
    "            myList[index], myList[index + 1] = myList[index + 1], myList[index]\n",
    "        return bubble(myList, index + 1, end)\n",
    "    else:\n",
    "        return myList\n",
    "\n",
    "def bubbleSort(myList, length):\n",
    "    if length > 0:\n",
    "        bubble(myList, 0, length)\n",
    "        return bubbleSort(myList, length - 1)\n",
    "    else:\n",
    "        return myList\n",
    "\n",
    "a =[87,21,43,1,9,-2,-4,1,-433,12]\n",
    "bubbleSort(a, 10)"
   ]
  },
  {
   "cell_type": "code",
   "execution_count": 17,
   "metadata": {},
   "outputs": [
    {
     "data": {
      "text/plain": [
       "[1, 5, 1, 1, 2, 5, 6, 5, 6]"
      ]
     },
     "execution_count": 17,
     "metadata": {},
     "output_type": "execute_result"
    }
   ],
   "source": [
    "def flatten(myList, newList = [], i = 0):\n",
    "    if i < len(myList):\n",
    "        if type(myList[i]) == list:\n",
    "            flatten(myList[i], newList)\n",
    "        else:\n",
    "            newList.append(myList[i])\n",
    "        flatten(myList, newList, i + 1)\n",
    "    else:\n",
    "        return\n",
    "    return newList\n",
    "    \n",
    "a = [[1,[[[5],1,[],[1,2,[5,6]]]], [[[5,],[[[[]]]], 6]]]]\n",
    "flatten(a)\n"
   ]
  },
  {
   "cell_type": "code",
   "execution_count": 27,
   "metadata": {},
   "outputs": [
    {
     "data": {
      "text/plain": [
       "[1, 5, 2, 5]"
      ]
     },
     "execution_count": 27,
     "metadata": {},
     "output_type": "execute_result"
    }
   ],
   "source": [
    "def insertAlt(myList, element, i = 0):\n",
    "    if len(myList) == 0:\n",
    "        myList.insert(0, element)\n",
    "        return myList\n",
    "    if i < len(myList):\n",
    "        if i%2 == 0:\n",
    "            myList.insert(i+1, element)\n",
    "        return insertAlt(myList, element, i+1)\n",
    "    else:\n",
    "        return myList\n",
    "\n",
    "a = [1,2]\n",
    "insertAlt(a, 5)"
   ]
  },
  {
   "cell_type": "code",
   "execution_count": null,
   "metadata": {},
   "outputs": [],
   "source": []
  }
 ],
 "metadata": {
  "kernelspec": {
   "display_name": "Python 3",
   "language": "python",
   "name": "python3"
  },
  "language_info": {
   "codemirror_mode": {
    "name": "ipython",
    "version": 3
   },
   "file_extension": ".py",
   "mimetype": "text/x-python",
   "name": "python",
   "nbconvert_exporter": "python",
   "pygments_lexer": "ipython3",
   "version": "3.7.3"
  }
 },
 "nbformat": 4,
 "nbformat_minor": 2
}
