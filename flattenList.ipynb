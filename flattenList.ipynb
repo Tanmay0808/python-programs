{
 "cells": [
  {
   "cell_type": "code",
   "execution_count": 109,
   "metadata": {},
   "outputs": [],
   "source": [
    "def flatten(myList, newList = [], index = 0):\n",
    "    '''\n",
    "    Objective: to create a simple list from a nested list\n",
    "    Input Parameters:\n",
    "                myList: A nested list\n",
    "    Return Values: A simple list\n",
    "    Approach: recursion\n",
    "    '''\n",
    "    if index == len(myList):\n",
    "        return\n",
    "    else:\n",
    "        if type(myList[index]) == list:\n",
    "            flatten(myList[index], newList, 0)\n",
    "            flatten(myList, newList, index+1)\n",
    "        else:\n",
    "            newList.append(myList[index])\n",
    "            flatten(myList, newList, index + 1)     \n",
    "    return newList"
   ]
  },
  {
   "cell_type": "code",
   "execution_count": 110,
   "metadata": {},
   "outputs": [
    {
     "data": {
      "text/plain": [
       "[1, 5, 1, 1, 2, 5, 6, 5, 6]"
      ]
     },
     "execution_count": 110,
     "metadata": {},
     "output_type": "execute_result"
    }
   ],
   "source": [
    "a = [[1,[[[5],1,[],[1,2,[5,6]]]], [[[5,],[[[[]]]], 6]]]]\n",
    "b = []\n",
    "flatten(a)"
   ]
  },
  {
   "cell_type": "code",
   "execution_count": 82,
   "metadata": {},
   "outputs": [
    {
     "name": "stdout",
     "output_type": "stream",
     "text": [
      "<class 'list'>\n"
     ]
    }
   ],
   "source": [
    "print(type(a[0]))"
   ]
  },
  {
   "cell_type": "code",
   "execution_count": 3,
   "metadata": {},
   "outputs": [
    {
     "data": {
      "text/plain": [
       "[1, 2, [5, 6]]"
      ]
     },
     "execution_count": 3,
     "metadata": {},
     "output_type": "execute_result"
    }
   ],
   "source": [
    "a[2]"
   ]
  },
  {
   "cell_type": "code",
   "execution_count": null,
   "metadata": {},
   "outputs": [],
   "source": []
  }
 ],
 "metadata": {
  "kernelspec": {
   "display_name": "Python 3",
   "language": "python",
   "name": "python3"
  },
  "language_info": {
   "codemirror_mode": {
    "name": "ipython",
    "version": 3
   },
   "file_extension": ".py",
   "mimetype": "text/x-python",
   "name": "python",
   "nbconvert_exporter": "python",
   "pygments_lexer": "ipython3",
   "version": "3.6.5"
  }
 },
 "nbformat": 4,
 "nbformat_minor": 2
}
