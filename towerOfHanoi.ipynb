{
 "cells": [
  {
   "cell_type": "code",
   "execution_count": 12,
   "metadata": {},
   "outputs": [
    {
     "name": "stdout",
     "output_type": "stream",
     "text": [
      "Move disk 1 from  A  to  C\n",
      "Move disk 2 from  A  to  B\n",
      "Move disk 1 from  C  to  B\n"
     ]
    }
   ],
   "source": [
    "def hanoi(n, source, dest, aux):\n",
    "    if n == 1:\n",
    "        print('Move disk', n ,'from ', source, ' to ', dest)\n",
    "        return\n",
    "    else:\n",
    "        hanoi(n-1, source, aux, dest)\n",
    "        print('Move disk', n ,'from ', source, ' to ', dest)\n",
    "        hanoi(n-1, aux, dest, source)\n",
    "    \n",
    "\n",
    "hanoi(2, 'A', 'B', 'C')"
   ]
  },
  {
   "cell_type": "code",
   "execution_count": null,
   "metadata": {},
   "outputs": [],
   "source": []
  }
 ],
 "metadata": {
  "kernelspec": {
   "display_name": "Python 3",
   "language": "python",
   "name": "python3"
  },
  "language_info": {
   "codemirror_mode": {
    "name": "ipython",
    "version": 3
   },
   "file_extension": ".py",
   "mimetype": "text/x-python",
   "name": "python",
   "nbconvert_exporter": "python",
   "pygments_lexer": "ipython3",
   "version": "3.7.3"
  }
 },
 "nbformat": 4,
 "nbformat_minor": 2
}
