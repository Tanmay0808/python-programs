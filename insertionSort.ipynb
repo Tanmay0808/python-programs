{
 "cells": [
  {
   "cell_type": "code",
   "execution_count": 3,
   "metadata": {},
   "outputs": [],
   "source": [
    "def insertionSort(myList, pos = 0, ite = 5):\n",
    "    '''\n",
    "    Objective: Insertion Sort\n",
    "    Input Parameters: A list\n",
    "    Return Value: A sorted list\n",
    "    '''\n",
    "    #Approach:\n",
    "    if ite>0:\n",
    "        if pos < (len(myList)-1):\n",
    "            if myList[pos]>myList[pos+1]:\n",
    "                myList[pos], myList[pos+1] = myList[pos+1], myList[pos]\n",
    "            return insertionSort(myList, pos+1, ite)\n",
    "        else:\n",
    "            return insertionSort(myList, 0, ite - 1)\n",
    "    else:\n",
    "        return myList\n",
    "        "
   ]
  },
  {
   "cell_type": "code",
   "execution_count": 4,
   "metadata": {},
   "outputs": [
    {
     "data": {
      "text/plain": [
       "[2, 3, 4, 5, 6, 7, 10]"
      ]
     },
     "execution_count": 4,
     "metadata": {},
     "output_type": "execute_result"
    }
   ],
   "source": [
    "insertionSort([10,5,6,3,7,2,4])"
   ]
  },
  {
   "cell_type": "code",
   "execution_count": null,
   "metadata": {},
   "outputs": [],
   "source": []
  }
 ],
 "metadata": {
  "kernelspec": {
   "display_name": "Python 3",
   "language": "python",
   "name": "python3"
  },
  "language_info": {
   "codemirror_mode": {
    "name": "ipython",
    "version": 3
   },
   "file_extension": ".py",
   "mimetype": "text/x-python",
   "name": "python",
   "nbconvert_exporter": "python",
   "pygments_lexer": "ipython3",
   "version": "3.6.5"
  }
 },
 "nbformat": 4,
 "nbformat_minor": 2
}
