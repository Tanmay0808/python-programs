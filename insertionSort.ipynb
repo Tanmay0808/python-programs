{
 "cells": [
  {
   "cell_type": "code",
   "execution_count": 6,
   "metadata": {},
   "outputs": [],
   "source": [
    "def shifter(myList, index):\n",
    "    '''\n",
    "    Objective: To shift left the element at index to its right position in a list presorted before the given index\n",
    "    Input Paramters: \n",
    "                    myList - a list\n",
    "                    index - index of the list before the list is sorted\n",
    "    Return Values: myList - list with element shifted at right position\n",
    "    '''\n",
    "    if index > 0:\n",
    "        if myList[index] < myList[index - 1]:\n",
    "            myList[index], myList[index - 1] = myList[index - 1], myList[index]\n",
    "            return shifter(myList, index - 1)\n",
    "    else:\n",
    "        return myList\n",
    "\n",
    "def insertionSort(myList, index = 1):\n",
    "    '''\n",
    "    Objective: To sort a list myList using insertion sort\n",
    "    Input Parameters: \n",
    "                    myList - list to be sorted\n",
    "                    index - numeric value (index for list)\n",
    "    Return Values: myList - Sorted list\n",
    "    '''\n",
    "    #Approach: Using Recursion\n",
    "    if index < len(myList):\n",
    "        shifter(myList, index)\n",
    "        return insertionSort(myList, index + 1)\n",
    "    else:\n",
    "        return myList\n"
   ]
  },
  {
   "cell_type": "code",
   "execution_count": 7,
   "metadata": {},
   "outputs": [
    {
     "data": {
      "text/plain": [
       "[-55, -2, 2, 8, 8, 9, 20, 22, 67, 75, 90, 98, 100]"
      ]
     },
     "execution_count": 7,
     "metadata": {},
     "output_type": "execute_result"
    }
   ],
   "source": [
    "a = [22,20,9,-55,90,-2,98,100,75,2,8,67,8]\n",
    "insertionSort(a)"
   ]
  },
  {
   "cell_type": "code",
   "execution_count": null,
   "metadata": {},
   "outputs": [],
   "source": []
  }
 ],
 "metadata": {
  "kernelspec": {
   "display_name": "Python 3",
   "language": "python",
   "name": "python3"
  },
  "language_info": {
   "codemirror_mode": {
    "name": "ipython",
    "version": 3
   },
   "file_extension": ".py",
   "mimetype": "text/x-python",
   "name": "python",
   "nbconvert_exporter": "python",
   "pygments_lexer": "ipython3",
   "version": "3.7.3"
  }
 },
 "nbformat": 4,
 "nbformat_minor": 2
}
